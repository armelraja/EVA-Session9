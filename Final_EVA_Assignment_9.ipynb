{
  "nbformat": 4,
  "nbformat_minor": 0,
  "metadata": {
    "colab": {
      "name": "Final_EVA_Assignment_9.ipynb",
      "version": "0.3.2",
      "provenance": [],
      "collapsed_sections": []
    },
    "kernelspec": {
      "name": "python3",
      "display_name": "Python 3"
    },
    "accelerator": "GPU"
  },
  "cells": [
    {
      "cell_type": "code",
      "metadata": {
        "id": "-ZJBdivKLs04",
        "colab_type": "code",
        "colab": {}
      },
      "source": [
        "#Observations :\n",
        "\n",
        "I have trained 2 models below, one without cutout , one with cutout\n",
        "Below both model results can be found\n",
        "Validation Accuarcy with cutout is 89.56%"
      ],
      "execution_count": 0,
      "outputs": []
    },
    {
      "cell_type": "code",
      "metadata": {
        "colab_type": "code",
        "outputId": "0dcf3c57-c724-466e-f900-c104c8caca16",
        "id": "cbXtI3YLLwM0",
        "colab": {
          "base_uri": "https://localhost:8080/",
          "height": 34
        }
      },
      "source": [
        "from keras import backend as K\n",
        "import time\n",
        "import matplotlib.pyplot as plt\n",
        "import numpy as np\n",
        "% matplotlib inline\n",
        "np.random.seed(2017) \n",
        "import keras.models\n",
        "from keras import regularizers\n",
        "from keras.models import Sequential\n",
        "from keras.layers.convolutional import Convolution2D, MaxPooling2D,AveragePooling2D\n",
        "from keras.layers import Activation, Flatten, Dense, Dropout\n",
        "from keras.layers.normalization import BatchNormalization\n",
        "from keras.utils import np_utils\n",
        "from keras.preprocessing.image import ImageDataGenerator\n",
        "\n",
        "\n",
        "from numpy.random import seed\n",
        "seed(1)\n",
        "from tensorflow import set_random_seed\n",
        "set_random_seed(2)"
      ],
      "execution_count": 0,
      "outputs": [
        {
          "output_type": "stream",
          "text": [
            "Using TensorFlow backend.\n"
          ],
          "name": "stderr"
        }
      ]
    },
    {
      "cell_type": "code",
      "metadata": {
        "id": "1BfMVIgbdMlm",
        "colab_type": "code",
        "outputId": "cf43b94a-4798-436e-cbe3-f9e620519ea1",
        "colab": {
          "base_uri": "https://localhost:8080/",
          "height": 122
        }
      },
      "source": [
        "from google.colab import drive\n",
        "drive.mount('../content/drive/', force_remount=True)"
      ],
      "execution_count": 0,
      "outputs": [
        {
          "output_type": "stream",
          "text": [
            "Go to this URL in a browser: https://accounts.google.com/o/oauth2/auth?client_id=947318989803-6bn6qk8qdgf4n4g3pfee6491hc0brc4i.apps.googleusercontent.com&redirect_uri=urn%3Aietf%3Awg%3Aoauth%3A2.0%3Aoob&scope=email%20https%3A%2F%2Fwww.googleapis.com%2Fauth%2Fdocs.test%20https%3A%2F%2Fwww.googleapis.com%2Fauth%2Fdrive%20https%3A%2F%2Fwww.googleapis.com%2Fauth%2Fdrive.photos.readonly%20https%3A%2F%2Fwww.googleapis.com%2Fauth%2Fpeopleapi.readonly&response_type=code\n",
            "\n",
            "Enter your authorization code:\n",
            "··········\n",
            "Mounted at ../content/drive/\n"
          ],
          "name": "stdout"
        }
      ]
    },
    {
      "cell_type": "code",
      "metadata": {
        "id": "NHpnoCHZfO8g",
        "colab_type": "code",
        "outputId": "c03d12d6-b5ec-4942-f7ec-14d9182b160b",
        "colab": {
          "base_uri": "https://localhost:8080/",
          "height": 51
        }
      },
      "source": [
        "from keras.datasets import cifar10\n",
        "(train_features, train_labels), (test_features, test_labels) = cifar10.load_data()\n",
        "num_train, img_channels, img_rows, img_cols =  train_features.shape\n",
        "num_test, _, _, _ =  test_features.shape\n",
        "num_classes = len(np.unique(train_labels))"
      ],
      "execution_count": 0,
      "outputs": [
        {
          "output_type": "stream",
          "text": [
            "Downloading data from https://www.cs.toronto.edu/~kriz/cifar-10-python.tar.gz\n",
            "170500096/170498071 [==============================] - 2s 0us/step\n"
          ],
          "name": "stdout"
        }
      ]
    },
    {
      "cell_type": "code",
      "metadata": {
        "id": "5W6SVpv_OtWv",
        "colab_type": "code",
        "outputId": "e9c28f41-e25e-44a9-8b3f-aa0618b975e2",
        "colab": {
          "base_uri": "https://localhost:8080/",
          "height": 68
        }
      },
      "source": [
        "print(\"Number of images in the Train dataset : {}\".format(num_train))\n",
        "print(\"Number of classes : {}\".format(num_classes))\n",
        "print(\"Shape of the train dataset : {}\".format(train_features.shape))"
      ],
      "execution_count": 0,
      "outputs": [
        {
          "output_type": "stream",
          "text": [
            "Number of images in the Train dataset : 50000\n",
            "Number of classes : 10\n",
            "Shape of the train dataset : (50000, 32, 32, 3)\n"
          ],
          "name": "stdout"
        }
      ]
    },
    {
      "cell_type": "code",
      "metadata": {
        "id": "14HyBUXdfS6G",
        "colab_type": "code",
        "outputId": "585efae6-9edc-4204-e4cf-c40f77a18f3d",
        "colab": {
          "base_uri": "https://localhost:8080/",
          "height": 213
        }
      },
      "source": [
        "class_names = ['airplane','automobile','bird','cat','deer',\n",
        "               'dog','frog','horse','ship','truck']\n",
        "fig = plt.figure(figsize=(8,3))\n",
        "for i in range(num_classes):\n",
        "    ax = fig.add_subplot(2, 5, 1 + i, xticks=[], yticks=[])\n",
        "    idx = np.where(train_labels[:]==i)[0]\n",
        "    features_idx = train_features[idx,::]\n",
        "    img_num = np.random.randint(features_idx.shape[0])\n",
        "    im = features_idx[img_num]\n",
        "    ax.set_title(class_names[i])\n",
        "    plt.imshow(im)\n",
        "plt.show()"
      ],
      "execution_count": 0,
      "outputs": [
        {
          "output_type": "display_data",
          "data": {
            "image/png": "[encoded data removed]",
            "text/plain": [
              "<Figure size 576x216 with 10 Axes>"
            ]
          },
          "metadata": {
            "tags": []
          }
        }
      ]
    },
    {
      "cell_type": "code",
      "metadata": {
        "id": "bmfsk76-fadV",
        "colab_type": "code",
        "colab": {}
      },
      "source": [
        "def plot_model_history(model_history):\n",
        "    fig, axs = plt.subplots(1,2,figsize=(15,5))\n",
        "    # summarize history for accuracy\n",
        "    axs[0].plot(range(1,len(model_history.history['acc'])+1),model_history.history['acc'])\n",
        "    axs[0].plot(range(1,len(model_history.history['val_acc'])+1),model_history.history['val_acc'])\n",
        "    axs[0].set_title('Model Accuracy')\n",
        "    axs[0].set_ylabel('Accuracy')\n",
        "    axs[0].set_xlabel('Epoch')\n",
        "    axs[0].set_xticks(np.arange(1,len(model_history.history['acc'])+1),len(model_history.history['acc'])/10)\n",
        "    axs[0].legend(['train', 'val'], loc='best')\n",
        "    # summarize history for loss\n",
        "    axs[1].plot(range(1,len(model_history.history['loss'])+1),model_history.history['loss'])\n",
        "    axs[1].plot(range(1,len(model_history.history['val_loss'])+1),model_history.history['val_loss'])\n",
        "    axs[1].set_title('Model Loss')\n",
        "    axs[1].set_ylabel('Loss')\n",
        "    axs[1].set_xlabel('Epoch')\n",
        "    axs[1].set_xticks(np.arange(1,len(model_history.history['loss'])+1),len(model_history.history['loss'])/10)\n",
        "    axs[1].legend(['train', 'val'], loc='best')\n",
        "    plt.show()"
      ],
      "execution_count": 0,
      "outputs": []
    },
    {
      "cell_type": "code",
      "metadata": {
        "id": "YJMT4rjgfdZz",
        "colab_type": "code",
        "colab": {}
      },
      "source": [
        "def accuracy(test_x, test_y, model):\n",
        "    result = model.predict(test_x)\n",
        "    predicted_class = np.argmax(result, axis=1)\n",
        "    true_class = np.argmax(test_y, axis=1)\n",
        "    num_correct = np.sum(predicted_class == true_class) \n",
        "    accuracy = float(num_correct)/result.shape[0]\n",
        "    return (accuracy * 100)"
      ],
      "execution_count": 0,
      "outputs": []
    },
    {
      "cell_type": "code",
      "metadata": {
        "id": "T5c5nDvxm6zR",
        "colab_type": "code",
        "colab": {}
      },
      "source": [
        "train_features = train_features.astype('float32')/255\n",
        "test_features = test_features.astype('float32')/255\n",
        "# convert class labels to binary class labels\n",
        "train_labels = np_utils.to_categorical(train_labels, num_classes)\n",
        "test_labels = np_utils.to_categorical(test_labels, num_classes)"
      ],
      "execution_count": 0,
      "outputs": []
    },
    {
      "cell_type": "markdown",
      "metadata": {
        "id": "bCuCmLTvS80y",
        "colab_type": "text"
      },
      "source": [
        "#RESULTS\n",
        "Base Accuracy : 83.6% at 78th epoch <br><br>\n",
        "\n",
        "Observation: <br>\n",
        "Regularization techniques needs to be used to avoid overfitting in the model\n",
        "\n",
        " <br> <br>\n",
        "Rewriting the model again with the following changes: <br>\n",
        "\n",
        "Layers: <br>\n",
        "Normal Convolution <br>\n",
        "Spatially Separable Convolution  (Conv2d(x, (3,1)) followed by Conv2D(x,(3,1)) <br>\n",
        "Depthwise Separable Convolution <br>\n",
        "Grouped Convolution (use 3x3, 5x5 only) <br>\n",
        "Grouped Convolution (use 3x3 only, one with dilation = 1, and another with dilation = 2)  <br>\n",
        "\n",
        "Normalization: <br>\n",
        "a) Image Normalization <br>\n",
        "b) Batch Normalization <br>\n",
        "\n",
        "Regularization techniques: <br>\n",
        "a) L2 Regularizer <br>\n",
        "b) Dropout  <br>\n",
        "\n",
        "Removed Dense layers  <br>\n",
        "\n",
        "Trained the new model for 50 epochs. \n",
        "\n",
        "References:\n",
        "1. https://github.com/amitdoda1983/EVA-Session-6/blob/master/6A_M6_Amit_Doda.ipynb\n",
        "2. https://github.com/toniqapps/EVA-Assignment-6/blob/master/Assignment_6A.ipynb\n",
        "\n"
      ]
    },
    {
      "cell_type": "markdown",
      "metadata": {
        "id": "7f7CS91iryu3",
        "colab_type": "text"
      },
      "source": [
        "###Image Normalization"
      ]
    },
    {
      "cell_type": "code",
      "metadata": {
        "colab_type": "code",
        "id": "mRbNvbCiSmFa",
        "outputId": "16bac7c2-b3f3-4669-91e9-b2e0cb46448d",
        "colab": {
          "base_uri": "https://localhost:8080/",
          "height": 68
        }
      },
      "source": [
        "from keras.preprocessing.image import ImageDataGenerator\n",
        "# standardizing the image cifar10 dataset\n",
        "\n",
        "# load dataset\n",
        "(trainX, trainy), (testX, testy) = cifar10.load_data()\n",
        "\n",
        "# report pixel means and standard deviations of train and test datasets\n",
        "print('Statistics train=%.3f (%.3f), test=%.3f (%.3f)' % (trainX.mean(), trainX.std(), testX.mean(), testX.std()))\n",
        "\n",
        "# create generator that centers pixel values\n",
        "datagen = ImageDataGenerator(featurewise_center=True, featurewise_std_normalization=True)\n",
        "\n",
        "# calculate the mean on the training dataset\n",
        "datagen.fit(trainX)\n",
        "#print('Data Generator mean=%.3f, std=%.3f' % (datagen.mean, datagen.std))\n",
        "\n",
        "# demonstrate effect on a single batch of samples\n",
        "iterator = datagen.flow(trainX, trainy, batch_size=64)\n",
        "\n",
        "# get a batch\n",
        "batchX, batchy = iterator.next()\n",
        "\n",
        "# pixel stats in the batch\n",
        "print(batchX.shape, batchX.mean(), batchX.std())\n",
        "\n",
        "# demonstrate effect on entire training dataset\n",
        "iterator = datagen.flow(trainX, trainy, batch_size=len(trainX), shuffle=False)\n",
        "\n",
        "# get a batch\n",
        "batchX, batchy = iterator.next()\n",
        "\n",
        "# pixel stats in the batch\n",
        "print(batchX.shape, batchX.mean(), batchX.std())"
      ],
      "execution_count": 0,
      "outputs": [
        {
          "output_type": "stream",
          "text": [
            "Statistics train=120.708 (64.150), test=121.529 (64.061)\n",
            "(64, 32, 32, 3) 0.0008427662 0.9345755\n",
            "(50000, 32, 32, 3) -1.6605131e-06 1.0000001\n"
          ],
          "name": "stdout"
        }
      ]
    },
    {
      "cell_type": "code",
      "metadata": {
        "id": "LnRGTKwkSbn3",
        "colab_type": "code",
        "colab": {}
      },
      "source": [
        "# Reshape the input to have the dimension for channel\n",
        "iterator1 = datagen.flow(testX, testy, batch_size=len(testX), shuffle=False)\n",
        "batch_testX, batch_testy = iterator1.next()\n",
        "\n",
        "X_train = batchX\n",
        "X_test = batch_testX\n",
        "\n",
        "y_train=batchy\n",
        "y_test=batch_testy"
      ],
      "execution_count": 0,
      "outputs": []
    },
    {
      "cell_type": "code",
      "metadata": {
        "id": "gNparR24uuhy",
        "colab_type": "code",
        "colab": {}
      },
      "source": [
        "# One - hot encoding\n",
        "Y_train = np_utils.to_categorical(y_train, 10)\n",
        "Y_test = np_utils.to_categorical(y_test, 10)"
      ],
      "execution_count": 0,
      "outputs": []
    },
    {
      "cell_type": "code",
      "metadata": {
        "id": "zoIUVu60uvBB",
        "colab_type": "code",
        "colab": {}
      },
      "source": [
        "from keras import regularizers\n",
        "from keras.layers.convolutional import AveragePooling2D"
      ],
      "execution_count": 0,
      "outputs": []
    },
    {
      "cell_type": "code",
      "metadata": {
        "id": "7RKEp_BBvI26",
        "colab_type": "code",
        "outputId": "a350156d-1555-43ce-f7a0-5ec447cc10b2",
        "colab": {
          "base_uri": "https://localhost:8080/",
          "height": 564
        }
      },
      "source": [
        "# Define the model\n",
        "model = Sequential()\n",
        "\n",
        "model.add(Convolution2D(64, 3, 3, border_mode='same',kernel_regularizer=regularizers.l2(0.0001), input_shape=(32, 32, 3)))\n",
        "model.add(Activation('relu'))\n",
        "model.add(BatchNormalization())\n",
        "model.add(Dropout(0.1))\n",
        "\n",
        "model.add(Convolution2D(128, 3, 3,kernel_regularizer=regularizers.l2(0.0001),border_mode='same'))\n",
        "model.add(Activation('relu'))\n",
        "model.add(BatchNormalization())\n",
        "model.add(Dropout(0.1))\n",
        "\n",
        "\n",
        "model.add(MaxPooling2D(pool_size=(2, 2)))\n",
        "model.add(Dropout(0.1))\n",
        "\n",
        "model.add(Convolution2D(32, 1, 1))\n",
        "\n",
        "\n",
        "model.add(Convolution2D(64, 3, 3,kernel_regularizer=regularizers.l2(0.0001),border_mode='same'))\n",
        "model.add(Activation('relu'))\n",
        "model.add(BatchNormalization())\n",
        "model.add(Dropout(0.1))\n",
        "\n",
        "model.add(Convolution2D(128, 3, 3,kernel_regularizer=regularizers.l2(0.0001),border_mode='same'))\n",
        "model.add(Activation('relu'))\n",
        "model.add(BatchNormalization())\n",
        "model.add(Dropout(0.1))\n",
        "\n",
        "\n",
        "model.add(MaxPooling2D(pool_size=(2, 2)))\n",
        "model.add(Dropout(0.3))\n",
        "\n",
        "model.add(Convolution2D(32, 1, 1))\n",
        "\n",
        "\n",
        "model.add(Convolution2D(128, 3, 3,kernel_regularizer=regularizers.l2(0.0001), border_mode='same'))\n",
        "model.add(Activation('relu'))\n",
        "model.add(BatchNormalization())\n",
        "model.add(Dropout(0.1))\n",
        "\n",
        "\n",
        "model.add(Convolution2D(256, 3, 3,kernel_regularizer=regularizers.l2(0.0001), border_mode='same'))\n",
        "model.add(Activation('relu'))\n",
        "model.add(BatchNormalization())\n",
        "model.add(Dropout(0.1))\n",
        "\n",
        "\n",
        "model.add(MaxPooling2D(pool_size=(2, 2)))\n",
        "model.add(Dropout(0.2))\n",
        "\n",
        "model.add(Convolution2D(10, 1, 1))\n",
        "\n",
        "model.add(AveragePooling2D(pool_size = (4,4)))\n",
        "model.add(Flatten())\n",
        "\n",
        "\n",
        "model.add(Activation('softmax'))\n"
      ],
      "execution_count": 0,
      "outputs": [
        {
          "output_type": "stream",
          "text": [
            "WARNING: Logging before flag parsing goes to stderr.\n",
            "W0809 05:48:17.843855 139658217412480 deprecation_wrapper.py:119] From /usr/local/lib/python3.6/dist-packages/keras/backend/tensorflow_backend.py:74: The name tf.get_default_graph is deprecated. Please use tf.compat.v1.get_default_graph instead.\n",
            "\n",
            "/usr/local/lib/python3.6/dist-packages/ipykernel_launcher.py:3: UserWarning: Update your `Conv2D` call to the Keras 2 API: `Conv2D(64, (3, 3), kernel_regularizer=<keras.reg..., input_shape=(32, 32, 3..., padding=\"same\")`\n",
            "  This is separate from the ipykernel package so we can avoid doing imports until\n",
            "W0809 05:48:17.848367 139658217412480 deprecation_wrapper.py:119] From /usr/local/lib/python3.6/dist-packages/keras/backend/tensorflow_backend.py:517: The name tf.placeholder is deprecated. Please use tf.compat.v1.placeholder instead.\n",
            "\n",
            "W0809 05:48:17.860501 139658217412480 deprecation_wrapper.py:119] From /usr/local/lib/python3.6/dist-packages/keras/backend/tensorflow_backend.py:4138: The name tf.random_uniform is deprecated. Please use tf.random.uniform instead.\n",
            "\n",
            "W0809 05:48:17.912069 139658217412480 deprecation_wrapper.py:119] From /usr/local/lib/python3.6/dist-packages/keras/backend/tensorflow_backend.py:174: The name tf.get_default_session is deprecated. Please use tf.compat.v1.get_default_session instead.\n",
            "\n",
            "W0809 05:48:17.912905 139658217412480 deprecation_wrapper.py:119] From /usr/local/lib/python3.6/dist-packages/keras/backend/tensorflow_backend.py:181: The name tf.ConfigProto is deprecated. Please use tf.compat.v1.ConfigProto instead.\n",
            "\n",
            "W0809 05:48:20.536039 139658217412480 deprecation_wrapper.py:119] From /usr/local/lib/python3.6/dist-packages/keras/backend/tensorflow_backend.py:1834: The name tf.nn.fused_batch_norm is deprecated. Please use tf.compat.v1.nn.fused_batch_norm instead.\n",
            "\n",
            "W0809 05:48:20.717502 139658217412480 deprecation.py:506] From /usr/local/lib/python3.6/dist-packages/keras/backend/tensorflow_backend.py:3445: calling dropout (from tensorflow.python.ops.nn_ops) with keep_prob is deprecated and will be removed in a future version.\n",
            "Instructions for updating:\n",
            "Please use `rate` instead of `keep_prob`. Rate should be set to `rate = 1 - keep_prob`.\n",
            "/usr/local/lib/python3.6/dist-packages/ipykernel_launcher.py:8: UserWarning: Update your `Conv2D` call to the Keras 2 API: `Conv2D(128, (3, 3), kernel_regularizer=<keras.reg..., padding=\"same\")`\n",
            "  \n",
            "W0809 05:48:20.834844 139658217412480 deprecation_wrapper.py:119] From /usr/local/lib/python3.6/dist-packages/keras/backend/tensorflow_backend.py:3976: The name tf.nn.max_pool is deprecated. Please use tf.nn.max_pool2d instead.\n",
            "\n",
            "/usr/local/lib/python3.6/dist-packages/ipykernel_launcher.py:17: UserWarning: Update your `Conv2D` call to the Keras 2 API: `Conv2D(32, (1, 1))`\n",
            "/usr/local/lib/python3.6/dist-packages/ipykernel_launcher.py:20: UserWarning: Update your `Conv2D` call to the Keras 2 API: `Conv2D(64, (3, 3), kernel_regularizer=<keras.reg..., padding=\"same\")`\n",
            "/usr/local/lib/python3.6/dist-packages/ipykernel_launcher.py:25: UserWarning: Update your `Conv2D` call to the Keras 2 API: `Conv2D(128, (3, 3), kernel_regularizer=<keras.reg..., padding=\"same\")`\n",
            "/usr/local/lib/python3.6/dist-packages/ipykernel_launcher.py:34: UserWarning: Update your `Conv2D` call to the Keras 2 API: `Conv2D(32, (1, 1))`\n",
            "/usr/local/lib/python3.6/dist-packages/ipykernel_launcher.py:37: UserWarning: Update your `Conv2D` call to the Keras 2 API: `Conv2D(128, (3, 3), kernel_regularizer=<keras.reg..., padding=\"same\")`\n",
            "/usr/local/lib/python3.6/dist-packages/ipykernel_launcher.py:43: UserWarning: Update your `Conv2D` call to the Keras 2 API: `Conv2D(256, (3, 3), kernel_regularizer=<keras.reg..., padding=\"same\")`\n",
            "/usr/local/lib/python3.6/dist-packages/ipykernel_launcher.py:52: UserWarning: Update your `Conv2D` call to the Keras 2 API: `Conv2D(10, (1, 1))`\n",
            "W0809 05:48:21.316143 139658217412480 deprecation_wrapper.py:119] From /usr/local/lib/python3.6/dist-packages/keras/backend/tensorflow_backend.py:3980: The name tf.nn.avg_pool is deprecated. Please use tf.nn.avg_pool2d instead.\n",
            "\n"
          ],
          "name": "stderr"
        }
      ]
    },
    {
      "cell_type": "code",
      "metadata": {
        "id": "x1r5z2veeeqI",
        "colab_type": "code",
        "outputId": "714d6586-7473-4cf5-bd76-23e259450688",
        "colab": {
          "base_uri": "https://localhost:8080/",
          "height": 71
        }
      },
      "source": [
        "from keras.callbacks import ModelCheckpoint,ReduceLROnPlateau\n",
        "\n",
        "checkpointer = ModelCheckpoint(filepath='../content/drive/My Drive/EIP/model_assignment6A.h5', monitor='val_acc', mode='auto', verbose = 1, save_best_only=True)\n",
        "lr_reducer = ReduceLROnPlateau(monitor='val_acc',factor=0.8, cooldown=0, patience=5, min_lr=0.5e-9,verbose = 1)\n",
        "\n",
        "\n",
        "\n",
        "# Compile the model\n",
        "model.compile(optimizer='adam', loss='categorical_crossentropy', metrics=['accuracy'])"
      ],
      "execution_count": 0,
      "outputs": [
        {
          "output_type": "stream",
          "text": [
            "W0809 05:48:21.348490 139658217412480 deprecation_wrapper.py:119] From /usr/local/lib/python3.6/dist-packages/keras/optimizers.py:790: The name tf.train.Optimizer is deprecated. Please use tf.compat.v1.train.Optimizer instead.\n",
            "\n"
          ],
          "name": "stderr"
        }
      ]
    },
    {
      "cell_type": "code",
      "metadata": {
        "id": "ryVtpvYJwpmJ",
        "colab_type": "code",
        "outputId": "3eb512d7-2d15-4766-8ed4-58d7248b0e41",
        "colab": {
          "base_uri": "https://localhost:8080/",
          "height": 1000
        }
      },
      "source": [
        "model.summary()"
      ],
      "execution_count": 0,
      "outputs": [
        {
          "output_type": "stream",
          "text": [
            "_________________________________________________________________\n",
            "Layer (type)                 Output Shape              Param #   \n",
            "=================================================================\n",
            "conv2d_25 (Conv2D)           (None, 32, 32, 64)        1792      \n",
            "_________________________________________________________________\n",
            "activation_23 (Activation)   (None, 32, 32, 64)        0         \n",
            "_________________________________________________________________\n",
            "batch_normalization_13 (Batc (None, 32, 32, 64)        256       \n",
            "_________________________________________________________________\n",
            "dropout_24 (Dropout)         (None, 32, 32, 64)        0         \n",
            "_________________________________________________________________\n",
            "conv2d_26 (Conv2D)           (None, 32, 32, 128)       73856     \n",
            "_________________________________________________________________\n",
            "activation_24 (Activation)   (None, 32, 32, 128)       0         \n",
            "_________________________________________________________________\n",
            "batch_normalization_14 (Batc (None, 32, 32, 128)       512       \n",
            "_________________________________________________________________\n",
            "dropout_25 (Dropout)         (None, 32, 32, 128)       0         \n",
            "_________________________________________________________________\n",
            "max_pooling2d_10 (MaxPooling (None, 16, 16, 128)       0         \n",
            "_________________________________________________________________\n",
            "dropout_26 (Dropout)         (None, 16, 16, 128)       0         \n",
            "_________________________________________________________________\n",
            "conv2d_27 (Conv2D)           (None, 16, 16, 32)        4128      \n",
            "_________________________________________________________________\n",
            "conv2d_28 (Conv2D)           (None, 16, 16, 64)        18496     \n",
            "_________________________________________________________________\n",
            "activation_25 (Activation)   (None, 16, 16, 64)        0         \n",
            "_________________________________________________________________\n",
            "batch_normalization_15 (Batc (None, 16, 16, 64)        256       \n",
            "_________________________________________________________________\n",
            "dropout_27 (Dropout)         (None, 16, 16, 64)        0         \n",
            "_________________________________________________________________\n",
            "conv2d_29 (Conv2D)           (None, 16, 16, 128)       73856     \n",
            "_________________________________________________________________\n",
            "activation_26 (Activation)   (None, 16, 16, 128)       0         \n",
            "_________________________________________________________________\n",
            "batch_normalization_16 (Batc (None, 16, 16, 128)       512       \n",
            "_________________________________________________________________\n",
            "dropout_28 (Dropout)         (None, 16, 16, 128)       0         \n",
            "_________________________________________________________________\n",
            "max_pooling2d_11 (MaxPooling (None, 8, 8, 128)         0         \n",
            "_________________________________________________________________\n",
            "dropout_29 (Dropout)         (None, 8, 8, 128)         0         \n",
            "_________________________________________________________________\n",
            "conv2d_30 (Conv2D)           (None, 8, 8, 32)          4128      \n",
            "_________________________________________________________________\n",
            "conv2d_31 (Conv2D)           (None, 8, 8, 128)         36992     \n",
            "_________________________________________________________________\n",
            "activation_27 (Activation)   (None, 8, 8, 128)         0         \n",
            "_________________________________________________________________\n",
            "batch_normalization_17 (Batc (None, 8, 8, 128)         512       \n",
            "_________________________________________________________________\n",
            "dropout_30 (Dropout)         (None, 8, 8, 128)         0         \n",
            "_________________________________________________________________\n",
            "conv2d_32 (Conv2D)           (None, 8, 8, 256)         295168    \n",
            "_________________________________________________________________\n",
            "activation_28 (Activation)   (None, 8, 8, 256)         0         \n",
            "_________________________________________________________________\n",
            "batch_normalization_18 (Batc (None, 8, 8, 256)         1024      \n",
            "_________________________________________________________________\n",
            "dropout_31 (Dropout)         (None, 8, 8, 256)         0         \n",
            "_________________________________________________________________\n",
            "max_pooling2d_12 (MaxPooling (None, 4, 4, 256)         0         \n",
            "_________________________________________________________________\n",
            "dropout_32 (Dropout)         (None, 4, 4, 256)         0         \n",
            "_________________________________________________________________\n",
            "conv2d_33 (Conv2D)           (None, 4, 4, 10)          2570      \n",
            "_________________________________________________________________\n",
            "average_pooling2d_3 (Average (None, 1, 1, 10)          0         \n",
            "_________________________________________________________________\n",
            "flatten_4 (Flatten)          (None, 10)                0         \n",
            "_________________________________________________________________\n",
            "activation_29 (Activation)   (None, 10)                0         \n",
            "=================================================================\n",
            "Total params: 514,058\n",
            "Trainable params: 512,522\n",
            "Non-trainable params: 1,536\n",
            "_________________________________________________________________\n"
          ],
          "name": "stdout"
        }
      ]
    },
    {
      "cell_type": "code",
      "metadata": {
        "id": "rf7rREVOxkx2",
        "colab_type": "code",
        "outputId": "1c57d6fc-32d4-42fb-fa9a-e2e3c2aa44fc",
        "colab": {
          "base_uri": "https://localhost:8080/",
          "height": 1000
        }
      },
      "source": [
        "from keras.callbacks import LearningRateScheduler\n",
        "from keras.optimizers import Adam\n",
        "from keras.preprocessing.image import ImageDataGenerator\n",
        "\n",
        "BATCH_SIZE = 64\n",
        "EPOCHS = 100\n",
        "\n",
        "datagen = ImageDataGenerator(featurewise_center=True, featurewise_std_normalization=True, zoom_range=0.0, horizontal_flip=True)\n",
        "\n",
        "# train the model\n",
        "start = time.time()\n",
        "# Train the model\n",
        "model_info = model.fit_generator(datagen.flow(X_train, Y_train, batch_size = 128),\n",
        "                                 samples_per_epoch = train_features.shape[0], nb_epoch = 100, \n",
        "                                 validation_data = (X_test, Y_test), callbacks=[checkpointer,lr_reducer], verbose=1)\n",
        "end = time.time()\n",
        "print (\"Model took %0.2f seconds to train\"%(end - start))\n",
        "# plot model history\n",
        "plot_model_history(model_info)\n",
        "# compute test accuracy\n",
        "print (\"Accuracy on test data is: %0.2f\"%accuracy(X_test, Y_test, model))"
      ],
      "execution_count": 0,
      "outputs": [
        {
          "output_type": "stream",
          "text": [
            "/usr/local/lib/python3.6/dist-packages/ipykernel_launcher.py:15: UserWarning: The semantics of the Keras 2 argument `steps_per_epoch` is not the same as the Keras 1 argument `samples_per_epoch`. `steps_per_epoch` is the number of batches to draw from the generator at each epoch. Basically steps_per_epoch = samples_per_epoch/batch_size. Similarly `nb_val_samples`->`validation_steps` and `val_samples`->`steps` arguments have changed. Update your method calls accordingly.\n",
            "  from ipykernel import kernelapp as app\n",
            "/usr/local/lib/python3.6/dist-packages/ipykernel_launcher.py:15: UserWarning: Update your `fit_generator` call to the Keras 2 API: `fit_generator(<keras_pre..., validation_data=(array([[[..., callbacks=[<keras.ca..., verbose=1, steps_per_epoch=390, epochs=100)`\n",
            "  from ipykernel import kernelapp as app\n",
            "W0808 13:47:17.941969 139880844322688 deprecation.py:323] From /usr/local/lib/python3.6/dist-packages/tensorflow/python/ops/math_grad.py:1250: add_dispatch_support.<locals>.wrapper (from tensorflow.python.ops.array_ops) is deprecated and will be removed in a future version.\n",
            "Instructions for updating:\n",
            "Use tf.where in 2.0, which has the same broadcast rule as np.where\n"
          ],
          "name": "stderr"
        },
        {
          "output_type": "stream",
          "text": [
            "Epoch 1/100\n"
          ],
          "name": "stdout"
        },
        {
          "output_type": "stream",
          "text": [
            "/usr/local/lib/python3.6/dist-packages/keras_preprocessing/image/image_data_generator.py:716: UserWarning: This ImageDataGenerator specifies `featurewise_center`, but it hasn't been fit on any training data. Fit it first by calling `.fit(numpy_data)`.\n",
            "  warnings.warn('This ImageDataGenerator specifies '\n",
            "/usr/local/lib/python3.6/dist-packages/keras_preprocessing/image/image_data_generator.py:724: UserWarning: This ImageDataGenerator specifies `featurewise_std_normalization`, but it hasn't been fit on any training data. Fit it first by calling `.fit(numpy_data)`.\n",
            "  warnings.warn('This ImageDataGenerator specifies '\n"
          ],
          "name": "stderr"
        },
        {
          "output_type": "stream",
          "text": [
            "390/390 [==============================] - 54s 140ms/step - loss: 1.3705 - acc: 0.5269 - val_loss: 1.0835 - val_acc: 0.6448\n",
            "\n",
            "Epoch 00001: val_acc improved from -inf to 0.64480, saving model to ../content/drive/My Drive/EIP/model_assignment6A.h5\n",
            "Epoch 2/100\n",
            "390/390 [==============================] - 50s 127ms/step - loss: 0.9513 - acc: 0.6823 - val_loss: 0.9741 - val_acc: 0.6815\n",
            "\n",
            "Epoch 00002: val_acc improved from 0.64480 to 0.68150, saving model to ../content/drive/My Drive/EIP/model_assignment6A.h5\n",
            "Epoch 3/100\n",
            "390/390 [==============================] - 49s 127ms/step - loss: 0.7966 - acc: 0.7413 - val_loss: 0.7889 - val_acc: 0.7461\n",
            "\n",
            "Epoch 00003: val_acc improved from 0.68150 to 0.74610, saving model to ../content/drive/My Drive/EIP/model_assignment6A.h5\n",
            "Epoch 4/100\n",
            "390/390 [==============================] - 50s 127ms/step - loss: 0.7067 - acc: 0.7775 - val_loss: 0.6678 - val_acc: 0.7991\n",
            "\n",
            "Epoch 00004: val_acc improved from 0.74610 to 0.79910, saving model to ../content/drive/My Drive/EIP/model_assignment6A.h5\n",
            "Epoch 5/100\n",
            "390/390 [==============================] - 50s 127ms/step - loss: 0.6594 - acc: 0.7957 - val_loss: 0.6685 - val_acc: 0.7984\n",
            "\n",
            "Epoch 00005: val_acc did not improve from 0.79910\n",
            "Epoch 6/100\n",
            "390/390 [==============================] - 50s 127ms/step - loss: 0.6127 - acc: 0.8128 - val_loss: 0.6630 - val_acc: 0.8000\n",
            "\n",
            "Epoch 00006: val_acc improved from 0.79910 to 0.80000, saving model to ../content/drive/My Drive/EIP/model_assignment6A.h5\n",
            "Epoch 7/100\n",
            "390/390 [==============================] - 49s 126ms/step - loss: 0.5867 - acc: 0.8278 - val_loss: 0.6636 - val_acc: 0.8016\n",
            "\n",
            "Epoch 00007: val_acc improved from 0.80000 to 0.80160, saving model to ../content/drive/My Drive/EIP/model_assignment6A.h5\n",
            "Epoch 8/100\n",
            "390/390 [==============================] - 49s 127ms/step - loss: 0.5621 - acc: 0.8382 - val_loss: 0.6148 - val_acc: 0.8239\n",
            "\n",
            "Epoch 00008: val_acc improved from 0.80160 to 0.82390, saving model to ../content/drive/My Drive/EIP/model_assignment6A.h5\n",
            "Epoch 9/100\n",
            "390/390 [==============================] - 50s 127ms/step - loss: 0.5426 - acc: 0.8462 - val_loss: 0.6112 - val_acc: 0.8247\n",
            "\n",
            "Epoch 00009: val_acc improved from 0.82390 to 0.82470, saving model to ../content/drive/My Drive/EIP/model_assignment6A.h5\n",
            "Epoch 10/100\n",
            "390/390 [==============================] - 49s 126ms/step - loss: 0.5284 - acc: 0.8523 - val_loss: 0.6224 - val_acc: 0.8293\n",
            "\n",
            "Epoch 00010: val_acc improved from 0.82470 to 0.82930, saving model to ../content/drive/My Drive/EIP/model_assignment6A.h5\n",
            "Epoch 11/100\n",
            "390/390 [==============================] - 49s 125ms/step - loss: 0.5179 - acc: 0.8588 - val_loss: 0.6217 - val_acc: 0.8221\n",
            "\n",
            "Epoch 00011: val_acc did not improve from 0.82930\n",
            "Epoch 12/100\n",
            "390/390 [==============================] - 49s 126ms/step - loss: 0.5062 - acc: 0.8665 - val_loss: 0.6994 - val_acc: 0.8097\n",
            "\n",
            "Epoch 00012: val_acc did not improve from 0.82930\n",
            "Epoch 13/100\n",
            "390/390 [==============================] - 49s 125ms/step - loss: 0.4953 - acc: 0.8701 - val_loss: 0.5791 - val_acc: 0.8445\n",
            "\n",
            "Epoch 00013: val_acc improved from 0.82930 to 0.84450, saving model to ../content/drive/My Drive/EIP/model_assignment6A.h5\n",
            "Epoch 14/100\n",
            "390/390 [==============================] - 49s 126ms/step - loss: 0.4929 - acc: 0.8710 - val_loss: 0.5737 - val_acc: 0.8476\n",
            "\n",
            "Epoch 00014: val_acc improved from 0.84450 to 0.84760, saving model to ../content/drive/My Drive/EIP/model_assignment6A.h5\n",
            "Epoch 15/100\n",
            "390/390 [==============================] - 49s 126ms/step - loss: 0.4863 - acc: 0.8770 - val_loss: 0.6119 - val_acc: 0.8402\n",
            "\n",
            "Epoch 00015: val_acc did not improve from 0.84760\n",
            "Epoch 16/100\n",
            "390/390 [==============================] - 49s 126ms/step - loss: 0.4787 - acc: 0.8814 - val_loss: 0.5753 - val_acc: 0.8528\n",
            "\n",
            "Epoch 00016: val_acc improved from 0.84760 to 0.85280, saving model to ../content/drive/My Drive/EIP/model_assignment6A.h5\n",
            "Epoch 17/100\n",
            "390/390 [==============================] - 49s 125ms/step - loss: 0.4733 - acc: 0.8846 - val_loss: 0.6416 - val_acc: 0.8329\n",
            "\n",
            "Epoch 00017: val_acc did not improve from 0.85280\n",
            "Epoch 18/100\n",
            "390/390 [==============================] - 49s 125ms/step - loss: 0.4710 - acc: 0.8852 - val_loss: 0.5878 - val_acc: 0.8508\n",
            "\n",
            "Epoch 00018: val_acc did not improve from 0.85280\n",
            "Epoch 19/100\n",
            "390/390 [==============================] - 49s 125ms/step - loss: 0.4704 - acc: 0.8889 - val_loss: 0.5969 - val_acc: 0.8500\n",
            "\n",
            "Epoch 00019: val_acc did not improve from 0.85280\n",
            "Epoch 20/100\n",
            "390/390 [==============================] - 49s 125ms/step - loss: 0.4642 - acc: 0.8898 - val_loss: 0.5809 - val_acc: 0.8556\n",
            "\n",
            "Epoch 00020: val_acc improved from 0.85280 to 0.85560, saving model to ../content/drive/My Drive/EIP/model_assignment6A.h5\n",
            "Epoch 21/100\n",
            "390/390 [==============================] - 49s 125ms/step - loss: 0.4606 - acc: 0.8910 - val_loss: 0.6277 - val_acc: 0.8424\n",
            "\n",
            "Epoch 00021: val_acc did not improve from 0.85560\n",
            "Epoch 22/100\n",
            "390/390 [==============================] - 49s 125ms/step - loss: 0.4583 - acc: 0.8921 - val_loss: 0.6386 - val_acc: 0.8356\n",
            "\n",
            "Epoch 00022: val_acc did not improve from 0.85560\n",
            "Epoch 23/100\n",
            "390/390 [==============================] - 48s 124ms/step - loss: 0.4583 - acc: 0.8940 - val_loss: 0.6065 - val_acc: 0.8506\n",
            "\n",
            "Epoch 00023: val_acc did not improve from 0.85560\n",
            "Epoch 24/100\n",
            "390/390 [==============================] - 49s 125ms/step - loss: 0.4489 - acc: 0.8977 - val_loss: 0.5686 - val_acc: 0.8622\n",
            "\n",
            "Epoch 00024: val_acc improved from 0.85560 to 0.86220, saving model to ../content/drive/My Drive/EIP/model_assignment6A.h5\n",
            "Epoch 25/100\n",
            "390/390 [==============================] - 49s 125ms/step - loss: 0.4512 - acc: 0.8987 - val_loss: 0.6419 - val_acc: 0.8450\n",
            "\n",
            "Epoch 00025: val_acc did not improve from 0.86220\n",
            "Epoch 26/100\n",
            "390/390 [==============================] - 49s 125ms/step - loss: 0.4485 - acc: 0.9012 - val_loss: 0.6854 - val_acc: 0.8345\n",
            "\n",
            "Epoch 00026: val_acc did not improve from 0.86220\n",
            "Epoch 27/100\n",
            "390/390 [==============================] - 49s 125ms/step - loss: 0.4460 - acc: 0.9005 - val_loss: 0.5843 - val_acc: 0.8592\n",
            "\n",
            "Epoch 00027: val_acc did not improve from 0.86220\n",
            "Epoch 28/100\n",
            "390/390 [==============================] - 49s 125ms/step - loss: 0.4413 - acc: 0.9041 - val_loss: 0.5641 - val_acc: 0.8657\n",
            "\n",
            "Epoch 00028: val_acc improved from 0.86220 to 0.86570, saving model to ../content/drive/My Drive/EIP/model_assignment6A.h5\n",
            "Epoch 29/100\n",
            "390/390 [==============================] - 49s 126ms/step - loss: 0.4453 - acc: 0.9034 - val_loss: 0.6274 - val_acc: 0.8487\n",
            "\n",
            "Epoch 00029: val_acc did not improve from 0.86570\n",
            "Epoch 30/100\n",
            "390/390 [==============================] - 49s 126ms/step - loss: 0.4420 - acc: 0.9038 - val_loss: 0.5841 - val_acc: 0.8620\n",
            "\n",
            "Epoch 00030: val_acc did not improve from 0.86570\n",
            "Epoch 31/100\n",
            "390/390 [==============================] - 49s 125ms/step - loss: 0.4364 - acc: 0.9052 - val_loss: 0.5665 - val_acc: 0.8676\n",
            "\n",
            "Epoch 00031: val_acc improved from 0.86570 to 0.86760, saving model to ../content/drive/My Drive/EIP/model_assignment6A.h5\n",
            "Epoch 32/100\n",
            "390/390 [==============================] - 49s 126ms/step - loss: 0.4399 - acc: 0.9044 - val_loss: 0.6116 - val_acc: 0.8552\n",
            "\n",
            "Epoch 00032: val_acc did not improve from 0.86760\n",
            "Epoch 33/100\n",
            "390/390 [==============================] - 49s 126ms/step - loss: 0.4322 - acc: 0.9087 - val_loss: 0.6212 - val_acc: 0.8583\n",
            "\n",
            "Epoch 00033: val_acc did not improve from 0.86760\n",
            "Epoch 34/100\n",
            "390/390 [==============================] - 49s 126ms/step - loss: 0.4315 - acc: 0.9111 - val_loss: 0.6015 - val_acc: 0.8523\n",
            "\n",
            "Epoch 00034: val_acc did not improve from 0.86760\n",
            "Epoch 35/100\n",
            "390/390 [==============================] - 49s 125ms/step - loss: 0.4337 - acc: 0.9086 - val_loss: 0.5812 - val_acc: 0.8708\n",
            "\n",
            "Epoch 00035: val_acc improved from 0.86760 to 0.87080, saving model to ../content/drive/My Drive/EIP/model_assignment6A.h5\n",
            "Epoch 36/100\n",
            "390/390 [==============================] - 49s 125ms/step - loss: 0.4348 - acc: 0.9101 - val_loss: 0.5592 - val_acc: 0.8708\n",
            "\n",
            "Epoch 00036: val_acc did not improve from 0.87080\n",
            "Epoch 37/100\n",
            "390/390 [==============================] - 49s 125ms/step - loss: 0.4271 - acc: 0.9132 - val_loss: 0.6008 - val_acc: 0.8605\n",
            "\n",
            "Epoch 00037: val_acc did not improve from 0.87080\n",
            "Epoch 38/100\n",
            "390/390 [==============================] - 49s 125ms/step - loss: 0.4253 - acc: 0.9139 - val_loss: 0.6141 - val_acc: 0.8561\n",
            "\n",
            "Epoch 00038: val_acc did not improve from 0.87080\n",
            "Epoch 39/100\n",
            "390/390 [==============================] - 49s 125ms/step - loss: 0.4268 - acc: 0.9130 - val_loss: 0.5924 - val_acc: 0.8647\n",
            "\n",
            "Epoch 00039: val_acc did not improve from 0.87080\n",
            "Epoch 40/100\n",
            "390/390 [==============================] - 49s 125ms/step - loss: 0.4198 - acc: 0.9166 - val_loss: 0.6197 - val_acc: 0.8521\n",
            "\n",
            "Epoch 00040: val_acc did not improve from 0.87080\n",
            "\n",
            "Epoch 00040: ReduceLROnPlateau reducing learning rate to 0.000800000037997961.\n",
            "Epoch 41/100\n",
            "390/390 [==============================] - 49s 125ms/step - loss: 0.3965 - acc: 0.9233 - val_loss: 0.5664 - val_acc: 0.8715\n",
            "\n",
            "Epoch 00041: val_acc improved from 0.87080 to 0.87150, saving model to ../content/drive/My Drive/EIP/model_assignment6A.h5\n",
            "Epoch 42/100\n",
            "390/390 [==============================] - 49s 126ms/step - loss: 0.3935 - acc: 0.9231 - val_loss: 0.5438 - val_acc: 0.8802\n",
            "\n",
            "Epoch 00042: val_acc improved from 0.87150 to 0.88020, saving model to ../content/drive/My Drive/EIP/model_assignment6A.h5\n",
            "Epoch 43/100\n",
            "390/390 [==============================] - 49s 126ms/step - loss: 0.3856 - acc: 0.9256 - val_loss: 0.5351 - val_acc: 0.8820\n",
            "\n",
            "Epoch 00043: val_acc improved from 0.88020 to 0.88200, saving model to ../content/drive/My Drive/EIP/model_assignment6A.h5\n",
            "Epoch 44/100\n",
            "390/390 [==============================] - 50s 127ms/step - loss: 0.3788 - acc: 0.9272 - val_loss: 0.5400 - val_acc: 0.8790\n",
            "\n",
            "Epoch 00044: val_acc did not improve from 0.88200\n",
            "Epoch 45/100\n",
            "390/390 [==============================] - 49s 126ms/step - loss: 0.3772 - acc: 0.9277 - val_loss: 0.5454 - val_acc: 0.8812\n",
            "\n",
            "Epoch 00045: val_acc did not improve from 0.88200\n",
            "Epoch 46/100\n",
            "390/390 [==============================] - 49s 125ms/step - loss: 0.3808 - acc: 0.9261 - val_loss: 0.5461 - val_acc: 0.8776\n",
            "\n",
            "Epoch 00046: val_acc did not improve from 0.88200\n",
            "Epoch 47/100\n",
            "390/390 [==============================] - 49s 125ms/step - loss: 0.3735 - acc: 0.9285 - val_loss: 0.5490 - val_acc: 0.8807\n",
            "\n",
            "Epoch 00047: val_acc did not improve from 0.88200\n",
            "Epoch 48/100\n",
            "390/390 [==============================] - 49s 126ms/step - loss: 0.3730 - acc: 0.9290 - val_loss: 0.5458 - val_acc: 0.8788\n",
            "\n",
            "Epoch 00048: val_acc did not improve from 0.88200\n",
            "\n",
            "Epoch 00048: ReduceLROnPlateau reducing learning rate to 0.0006400000303983689.\n",
            "Epoch 49/100\n",
            "390/390 [==============================] - 49s 127ms/step - loss: 0.3547 - acc: 0.9339 - val_loss: 0.5281 - val_acc: 0.8861\n",
            "\n",
            "Epoch 00049: val_acc improved from 0.88200 to 0.88610, saving model to ../content/drive/My Drive/EIP/model_assignment6A.h5\n",
            "Epoch 50/100\n",
            "390/390 [==============================] - 49s 126ms/step - loss: 0.3422 - acc: 0.9367 - val_loss: 0.5299 - val_acc: 0.8787\n",
            "\n",
            "Epoch 00050: val_acc did not improve from 0.88610\n",
            "Epoch 51/100\n",
            "390/390 [==============================] - 49s 127ms/step - loss: 0.3379 - acc: 0.9385 - val_loss: 0.5400 - val_acc: 0.8737\n",
            "\n",
            "Epoch 00051: val_acc did not improve from 0.88610\n",
            "Epoch 52/100\n",
            "390/390 [==============================] - 49s 126ms/step - loss: 0.3345 - acc: 0.9392 - val_loss: 0.5191 - val_acc: 0.8840\n",
            "\n",
            "Epoch 00052: val_acc did not improve from 0.88610\n",
            "Epoch 53/100\n",
            "390/390 [==============================] - 49s 127ms/step - loss: 0.3299 - acc: 0.9406 - val_loss: 0.5228 - val_acc: 0.8850\n",
            "\n",
            "Epoch 00053: val_acc did not improve from 0.88610\n",
            "Epoch 54/100\n",
            "390/390 [==============================] - 49s 126ms/step - loss: 0.3296 - acc: 0.9386 - val_loss: 0.5446 - val_acc: 0.8756\n",
            "\n",
            "Epoch 00054: val_acc did not improve from 0.88610\n",
            "\n",
            "Epoch 00054: ReduceLROnPlateau reducing learning rate to 0.0005120000336319208.\n",
            "Epoch 55/100\n",
            "390/390 [==============================] - 49s 127ms/step - loss: 0.3096 - acc: 0.9456 - val_loss: 0.5252 - val_acc: 0.8851\n",
            "\n",
            "Epoch 00055: val_acc did not improve from 0.88610\n",
            "Epoch 56/100\n",
            "390/390 [==============================] - 49s 127ms/step - loss: 0.3026 - acc: 0.9475 - val_loss: 0.5047 - val_acc: 0.8848\n",
            "\n",
            "Epoch 00056: val_acc did not improve from 0.88610\n",
            "Epoch 57/100\n",
            "390/390 [==============================] - 49s 127ms/step - loss: 0.2988 - acc: 0.9490 - val_loss: 0.5373 - val_acc: 0.8730\n",
            "\n",
            "Epoch 00057: val_acc did not improve from 0.88610\n",
            "Epoch 58/100\n",
            "390/390 [==============================] - 49s 126ms/step - loss: 0.2986 - acc: 0.9479 - val_loss: 0.5076 - val_acc: 0.8886\n",
            "\n",
            "Epoch 00058: val_acc improved from 0.88610 to 0.88860, saving model to ../content/drive/My Drive/EIP/model_assignment6A.h5\n",
            "Epoch 59/100\n",
            "390/390 [==============================] - 50s 127ms/step - loss: 0.2932 - acc: 0.9487 - val_loss: 0.5105 - val_acc: 0.8853\n",
            "\n",
            "Epoch 00059: val_acc did not improve from 0.88860\n",
            "Epoch 60/100\n",
            "390/390 [==============================] - 49s 127ms/step - loss: 0.2905 - acc: 0.9487 - val_loss: 0.5048 - val_acc: 0.8884\n",
            "\n",
            "Epoch 00060: val_acc did not improve from 0.88860\n",
            "Epoch 61/100\n",
            "390/390 [==============================] - 49s 127ms/step - loss: 0.2926 - acc: 0.9484 - val_loss: 0.5192 - val_acc: 0.8837\n",
            "\n",
            "Epoch 00061: val_acc did not improve from 0.88860\n",
            "Epoch 62/100\n",
            "390/390 [==============================] - 49s 126ms/step - loss: 0.2889 - acc: 0.9496 - val_loss: 0.4967 - val_acc: 0.8885\n",
            "\n",
            "Epoch 00062: val_acc did not improve from 0.88860\n",
            "Epoch 63/100\n",
            "390/390 [==============================] - 49s 126ms/step - loss: 0.2849 - acc: 0.9508 - val_loss: 0.4869 - val_acc: 0.8918\n",
            "\n",
            "Epoch 00063: val_acc improved from 0.88860 to 0.89180, saving model to ../content/drive/My Drive/EIP/model_assignment6A.h5\n",
            "Epoch 64/100\n",
            "390/390 [==============================] - 49s 126ms/step - loss: 0.2824 - acc: 0.9509 - val_loss: 0.5237 - val_acc: 0.8846\n",
            "\n",
            "Epoch 00064: val_acc did not improve from 0.89180\n",
            "Epoch 65/100\n",
            "390/390 [==============================] - 49s 126ms/step - loss: 0.2832 - acc: 0.9500 - val_loss: 0.5495 - val_acc: 0.8760\n",
            "\n",
            "Epoch 00065: val_acc did not improve from 0.89180\n",
            "Epoch 66/100\n",
            "390/390 [==============================] - 49s 126ms/step - loss: 0.2811 - acc: 0.9517 - val_loss: 0.5006 - val_acc: 0.8910\n",
            "\n",
            "Epoch 00066: val_acc did not improve from 0.89180\n",
            "Epoch 67/100\n",
            "390/390 [==============================] - 49s 126ms/step - loss: 0.2807 - acc: 0.9506 - val_loss: 0.5116 - val_acc: 0.8873\n",
            "\n",
            "Epoch 00067: val_acc did not improve from 0.89180\n",
            "Epoch 68/100\n",
            "390/390 [==============================] - 49s 127ms/step - loss: 0.2807 - acc: 0.9504 - val_loss: 0.5195 - val_acc: 0.8807\n",
            "\n",
            "Epoch 00068: val_acc did not improve from 0.89180\n",
            "\n",
            "Epoch 00068: ReduceLROnPlateau reducing learning rate to 0.00040960004553198815.\n",
            "Epoch 69/100\n",
            "390/390 [==============================] - 49s 126ms/step - loss: 0.2641 - acc: 0.9569 - val_loss: 0.4720 - val_acc: 0.8947\n",
            "\n",
            "Epoch 00069: val_acc improved from 0.89180 to 0.89470, saving model to ../content/drive/My Drive/EIP/model_assignment6A.h5\n",
            "Epoch 70/100\n",
            "390/390 [==============================] - 49s 126ms/step - loss: 0.2560 - acc: 0.9588 - val_loss: 0.4553 - val_acc: 0.8995\n",
            "\n",
            "Epoch 00070: val_acc improved from 0.89470 to 0.89950, saving model to ../content/drive/My Drive/EIP/model_assignment6A.h5\n",
            "Epoch 71/100\n",
            "390/390 [==============================] - 49s 126ms/step - loss: 0.2507 - acc: 0.9596 - val_loss: 0.4878 - val_acc: 0.8946\n",
            "\n",
            "Epoch 00071: val_acc did not improve from 0.89950\n",
            "Epoch 72/100\n",
            "390/390 [==============================] - 49s 126ms/step - loss: 0.2493 - acc: 0.9598 - val_loss: 0.4751 - val_acc: 0.8945\n",
            "\n",
            "Epoch 00072: val_acc did not improve from 0.89950\n",
            "Epoch 73/100\n",
            "390/390 [==============================] - 49s 126ms/step - loss: 0.2507 - acc: 0.9585 - val_loss: 0.4994 - val_acc: 0.8886\n",
            "\n",
            "Epoch 00073: val_acc did not improve from 0.89950\n",
            "Epoch 74/100\n",
            "390/390 [==============================] - 49s 126ms/step - loss: 0.2471 - acc: 0.9595 - val_loss: 0.5133 - val_acc: 0.8849\n",
            "\n",
            "Epoch 00074: val_acc did not improve from 0.89950\n",
            "Epoch 75/100\n",
            "390/390 [==============================] - 49s 126ms/step - loss: 0.2447 - acc: 0.9598 - val_loss: 0.4736 - val_acc: 0.8962\n",
            "\n",
            "Epoch 00075: val_acc did not improve from 0.89950\n",
            "\n",
            "Epoch 00075: ReduceLROnPlateau reducing learning rate to 0.00032768002711236477.\n",
            "Epoch 76/100\n",
            "390/390 [==============================] - 49s 126ms/step - loss: 0.2369 - acc: 0.9619 - val_loss: 0.4645 - val_acc: 0.8980\n",
            "\n",
            "Epoch 00076: val_acc did not improve from 0.89950\n",
            "Epoch 77/100\n",
            "390/390 [==============================] - 49s 126ms/step - loss: 0.2330 - acc: 0.9636 - val_loss: 0.4744 - val_acc: 0.8946\n",
            "\n",
            "Epoch 00077: val_acc did not improve from 0.89950\n",
            "Epoch 78/100\n",
            "390/390 [==============================] - 49s 127ms/step - loss: 0.2288 - acc: 0.9656 - val_loss: 0.4959 - val_acc: 0.8930\n",
            "\n",
            "Epoch 00078: val_acc did not improve from 0.89950\n",
            "Epoch 79/100\n",
            "390/390 [==============================] - 49s 127ms/step - loss: 0.2254 - acc: 0.9657 - val_loss: 0.4648 - val_acc: 0.8998\n",
            "\n",
            "Epoch 00079: val_acc improved from 0.89950 to 0.89980, saving model to ../content/drive/My Drive/EIP/model_assignment6A.h5\n",
            "Epoch 80/100\n",
            "390/390 [==============================] - 50s 127ms/step - loss: 0.2257 - acc: 0.9654 - val_loss: 0.5104 - val_acc: 0.8860\n",
            "\n",
            "Epoch 00080: val_acc did not improve from 0.89980\n",
            "Epoch 81/100\n",
            "390/390 [==============================] - 49s 127ms/step - loss: 0.2239 - acc: 0.9650 - val_loss: 0.4829 - val_acc: 0.8938\n",
            "\n",
            "Epoch 00081: val_acc did not improve from 0.89980\n",
            "Epoch 82/100\n",
            "390/390 [==============================] - 50s 127ms/step - loss: 0.2161 - acc: 0.9677 - val_loss: 0.4786 - val_acc: 0.8893\n",
            "\n",
            "Epoch 00082: val_acc did not improve from 0.89980\n",
            "Epoch 83/100\n",
            "390/390 [==============================] - 50s 127ms/step - loss: 0.2190 - acc: 0.9658 - val_loss: 0.4844 - val_acc: 0.8919\n",
            "\n",
            "Epoch 00083: val_acc did not improve from 0.89980\n",
            "Epoch 84/100\n",
            "390/390 [==============================] - 49s 127ms/step - loss: 0.2181 - acc: 0.9660 - val_loss: 0.4924 - val_acc: 0.8918\n",
            "\n",
            "Epoch 00084: val_acc did not improve from 0.89980\n",
            "\n",
            "Epoch 00084: ReduceLROnPlateau reducing learning rate to 0.0002621440216898918.\n",
            "Epoch 85/100\n",
            "390/390 [==============================] - 50s 127ms/step - loss: 0.2091 - acc: 0.9691 - val_loss: 0.4861 - val_acc: 0.8899\n",
            "\n",
            "Epoch 00085: val_acc did not improve from 0.89980\n",
            "Epoch 86/100\n",
            "390/390 [==============================] - 49s 126ms/step - loss: 0.2075 - acc: 0.9697 - val_loss: 0.4420 - val_acc: 0.8992\n",
            "\n",
            "Epoch 00086: val_acc did not improve from 0.89980\n",
            "Epoch 87/100\n",
            "390/390 [==============================] - 49s 126ms/step - loss: 0.2035 - acc: 0.9709 - val_loss: 0.4616 - val_acc: 0.8959\n",
            "\n",
            "Epoch 00087: val_acc did not improve from 0.89980\n",
            "Epoch 88/100\n",
            "390/390 [==============================] - 49s 126ms/step - loss: 0.2015 - acc: 0.9705 - val_loss: 0.4524 - val_acc: 0.8978\n",
            "\n",
            "Epoch 00088: val_acc did not improve from 0.89980\n",
            "Epoch 89/100\n",
            "390/390 [==============================] - 49s 127ms/step - loss: 0.1991 - acc: 0.9712 - val_loss: 0.4804 - val_acc: 0.8915\n",
            "\n",
            "Epoch 00089: val_acc did not improve from 0.89980\n",
            "\n",
            "Epoch 00089: ReduceLROnPlateau reducing learning rate to 0.00020971521735191345.\n",
            "Epoch 90/100\n",
            "390/390 [==============================] - 49s 127ms/step - loss: 0.1933 - acc: 0.9730 - val_loss: 0.4626 - val_acc: 0.8978\n",
            "\n",
            "Epoch 00090: val_acc did not improve from 0.89980\n",
            "Epoch 91/100\n",
            "390/390 [==============================] - 49s 126ms/step - loss: 0.1894 - acc: 0.9734 - val_loss: 0.4769 - val_acc: 0.8919\n",
            "\n",
            "Epoch 00091: val_acc did not improve from 0.89980\n",
            "Epoch 92/100\n",
            "390/390 [==============================] - 49s 127ms/step - loss: 0.1858 - acc: 0.9746 - val_loss: 0.4627 - val_acc: 0.8988\n",
            "\n",
            "Epoch 00092: val_acc did not improve from 0.89980\n",
            "Epoch 93/100\n",
            "390/390 [==============================] - 49s 126ms/step - loss: 0.1821 - acc: 0.9760 - val_loss: 0.4586 - val_acc: 0.8980\n",
            "\n",
            "Epoch 00093: val_acc did not improve from 0.89980\n",
            "Epoch 94/100\n",
            "390/390 [==============================] - 49s 126ms/step - loss: 0.1794 - acc: 0.9766 - val_loss: 0.4569 - val_acc: 0.8981\n",
            "\n",
            "Epoch 00094: val_acc did not improve from 0.89980\n",
            "\n",
            "Epoch 00094: ReduceLROnPlateau reducing learning rate to 0.00016777217388153076.\n",
            "Epoch 95/100\n",
            "390/390 [==============================] - 49s 126ms/step - loss: 0.1752 - acc: 0.9776 - val_loss: 0.4561 - val_acc: 0.8986\n",
            "\n",
            "Epoch 00095: val_acc did not improve from 0.89980\n",
            "Epoch 96/100\n",
            "390/390 [==============================] - 49s 126ms/step - loss: 0.1729 - acc: 0.9784 - val_loss: 0.4640 - val_acc: 0.8969\n",
            "\n",
            "Epoch 00096: val_acc did not improve from 0.89980\n",
            "Epoch 97/100\n",
            "390/390 [==============================] - 49s 127ms/step - loss: 0.1732 - acc: 0.9779 - val_loss: 0.4501 - val_acc: 0.9013\n",
            "\n",
            "Epoch 00097: val_acc improved from 0.89980 to 0.90130, saving model to ../content/drive/My Drive/EIP/model_assignment6A.h5\n",
            "Epoch 98/100\n",
            "390/390 [==============================] - 49s 126ms/step - loss: 0.1743 - acc: 0.9775 - val_loss: 0.4537 - val_acc: 0.8999\n",
            "\n",
            "Epoch 00098: val_acc did not improve from 0.90130\n",
            "Epoch 99/100\n",
            "390/390 [==============================] - 49s 126ms/step - loss: 0.1673 - acc: 0.9789 - val_loss: 0.4358 - val_acc: 0.9033\n",
            "\n",
            "Epoch 00099: val_acc improved from 0.90130 to 0.90330, saving model to ../content/drive/My Drive/EIP/model_assignment6A.h5\n",
            "Epoch 100/100\n",
            "390/390 [==============================] - 49s 126ms/step - loss: 0.1651 - acc: 0.9800 - val_loss: 0.4440 - val_acc: 0.9043\n",
            "\n",
            "Epoch 00100: val_acc improved from 0.90330 to 0.90430, saving model to ../content/drive/My Drive/EIP/model_assignment6A.h5\n",
            "Model took 4944.59 seconds to train\n"
          ],
          "name": "stdout"
        },
        {
          "output_type": "display_data",
          "data": {
            "image/png": "[encoded data removed]",
            "text/plain": [
              "<Figure size 1080x360 with 2 Axes>"
            ]
          },
          "metadata": {
            "tags": []
          }
        },
        {
          "output_type": "stream",
          "text": [
            "Accuracy on test data is: 90.43\n"
          ],
          "name": "stdout"
        }
      ]
    },
    {
      "cell_type": "markdown",
      "metadata": {
        "id": "14siO5gcKxG0",
        "colab_type": "text"
      },
      "source": [
        "#Grad Cam without Cutout "
      ]
    },
    {
      "cell_type": "markdown",
      "metadata": {
        "id": "FxpEuB_u581m",
        "colab_type": "text"
      },
      "source": [
        "1. Gradient-weighted Class Activation Mapping (Grad-CAM), uses the gradients of any target concept (say logits for ‘dog’ or even a caption), flowing into the final convolutional layer to produce a coarse localization map highlighting the important regions in the image for predicting the concept.<br></br> \n",
        "2. simply take the final convolutional feature map and then we weigh every channel in that feature with the gradient of the class with respect to the channel\n",
        "3. \"visualize feature maps with three dimensions: width, height, and depth (channels). Each channel encodes relatively independent features, so the proper way to visualize these feature maps is by independently plotting the contents of every channel as a 2D image\" - Deep Learning with Python book"
      ]
    },
    {
      "cell_type": "code",
      "metadata": {
        "id": "wrpcYHfC6OxC",
        "colab_type": "code",
        "outputId": "577abab0-a4a4-4597-9f0f-40dff18c74ef",
        "colab": {
          "base_uri": "https://localhost:8080/",
          "height": 1000
        }
      },
      "source": [
        "# loading the saved model\n",
        "from keras.models import load_model\n",
        "model = load_model('../content/drive/My Drive/EIP/model_assignment6A.h5')\n",
        "model.summary()  # As a reminder"
      ],
      "execution_count": 0,
      "outputs": [
        {
          "output_type": "stream",
          "text": [
            "W0809 05:49:03.026723 139658217412480 deprecation.py:323] From /usr/local/lib/python3.6/dist-packages/tensorflow/python/ops/math_grad.py:1250: add_dispatch_support.<locals>.wrapper (from tensorflow.python.ops.array_ops) is deprecated and will be removed in a future version.\n",
            "Instructions for updating:\n",
            "Use tf.where in 2.0, which has the same broadcast rule as np.where\n"
          ],
          "name": "stderr"
        },
        {
          "output_type": "stream",
          "text": [
            "_________________________________________________________________\n",
            "Layer (type)                 Output Shape              Param #   \n",
            "=================================================================\n",
            "conv2d_25 (Conv2D)           (None, 32, 32, 64)        1792      \n",
            "_________________________________________________________________\n",
            "activation_23 (Activation)   (None, 32, 32, 64)        0         \n",
            "_________________________________________________________________\n",
            "batch_normalization_13 (Batc (None, 32, 32, 64)        256       \n",
            "_________________________________________________________________\n",
            "dropout_24 (Dropout)         (None, 32, 32, 64)        0         \n",
            "_________________________________________________________________\n",
            "conv2d_26 (Conv2D)           (None, 32, 32, 128)       73856     \n",
            "_________________________________________________________________\n",
            "activation_24 (Activation)   (None, 32, 32, 128)       0         \n",
            "_________________________________________________________________\n",
            "batch_normalization_14 (Batc (None, 32, 32, 128)       512       \n",
            "_________________________________________________________________\n",
            "dropout_25 (Dropout)         (None, 32, 32, 128)       0         \n",
            "_________________________________________________________________\n",
            "max_pooling2d_10 (MaxPooling (None, 16, 16, 128)       0         \n",
            "_________________________________________________________________\n",
            "dropout_26 (Dropout)         (None, 16, 16, 128)       0         \n",
            "_________________________________________________________________\n",
            "conv2d_27 (Conv2D)           (None, 16, 16, 32)        4128      \n",
            "_________________________________________________________________\n",
            "conv2d_28 (Conv2D)           (None, 16, 16, 64)        18496     \n",
            "_________________________________________________________________\n",
            "activation_25 (Activation)   (None, 16, 16, 64)        0         \n",
            "_________________________________________________________________\n",
            "batch_normalization_15 (Batc (None, 16, 16, 64)        256       \n",
            "_________________________________________________________________\n",
            "dropout_27 (Dropout)         (None, 16, 16, 64)        0         \n",
            "_________________________________________________________________\n",
            "conv2d_29 (Conv2D)           (None, 16, 16, 128)       73856     \n",
            "_________________________________________________________________\n",
            "activation_26 (Activation)   (None, 16, 16, 128)       0         \n",
            "_________________________________________________________________\n",
            "batch_normalization_16 (Batc (None, 16, 16, 128)       512       \n",
            "_________________________________________________________________\n",
            "dropout_28 (Dropout)         (None, 16, 16, 128)       0         \n",
            "_________________________________________________________________\n",
            "max_pooling2d_11 (MaxPooling (None, 8, 8, 128)         0         \n",
            "_________________________________________________________________\n",
            "dropout_29 (Dropout)         (None, 8, 8, 128)         0         \n",
            "_________________________________________________________________\n",
            "conv2d_30 (Conv2D)           (None, 8, 8, 32)          4128      \n",
            "_________________________________________________________________\n",
            "conv2d_31 (Conv2D)           (None, 8, 8, 128)         36992     \n",
            "_________________________________________________________________\n",
            "activation_27 (Activation)   (None, 8, 8, 128)         0         \n",
            "_________________________________________________________________\n",
            "batch_normalization_17 (Batc (None, 8, 8, 128)         512       \n",
            "_________________________________________________________________\n",
            "dropout_30 (Dropout)         (None, 8, 8, 128)         0         \n",
            "_________________________________________________________________\n",
            "conv2d_32 (Conv2D)           (None, 8, 8, 256)         295168    \n",
            "_________________________________________________________________\n",
            "activation_28 (Activation)   (None, 8, 8, 256)         0         \n",
            "_________________________________________________________________\n",
            "batch_normalization_18 (Batc (None, 8, 8, 256)         1024      \n",
            "_________________________________________________________________\n",
            "dropout_31 (Dropout)         (None, 8, 8, 256)         0         \n",
            "_________________________________________________________________\n",
            "max_pooling2d_12 (MaxPooling (None, 4, 4, 256)         0         \n",
            "_________________________________________________________________\n",
            "dropout_32 (Dropout)         (None, 4, 4, 256)         0         \n",
            "_________________________________________________________________\n",
            "conv2d_33 (Conv2D)           (None, 4, 4, 10)          2570      \n",
            "_________________________________________________________________\n",
            "average_pooling2d_3 (Average (None, 1, 1, 10)          0         \n",
            "_________________________________________________________________\n",
            "flatten_4 (Flatten)          (None, 10)                0         \n",
            "_________________________________________________________________\n",
            "activation_29 (Activation)   (None, 10)                0         \n",
            "=================================================================\n",
            "Total params: 514,058\n",
            "Trainable params: 512,522\n",
            "Non-trainable params: 1,536\n",
            "_________________________________________________________________\n"
          ],
          "name": "stdout"
        }
      ]
    },
    {
      "cell_type": "code",
      "metadata": {
        "id": "3g5V18P_BnVm",
        "colab_type": "code",
        "outputId": "7e79673b-9b8d-479f-fdd2-17f69555cd62",
        "colab": {
          "base_uri": "https://localhost:8080/",
          "height": 629
        }
      },
      "source": [
        "# Names of the layers\n",
        "layer_names = []                                                          \n",
        "for layer in model.layers[:36]:                                            \n",
        "    layer_names.append(layer.name) \n",
        "    print(layer.name)"
      ],
      "execution_count": 0,
      "outputs": [
        {
          "output_type": "stream",
          "text": [
            "conv2d_25\n",
            "activation_23\n",
            "batch_normalization_13\n",
            "dropout_24\n",
            "conv2d_26\n",
            "activation_24\n",
            "batch_normalization_14\n",
            "dropout_25\n",
            "max_pooling2d_10\n",
            "dropout_26\n",
            "conv2d_27\n",
            "conv2d_28\n",
            "activation_25\n",
            "batch_normalization_15\n",
            "dropout_27\n",
            "conv2d_29\n",
            "activation_26\n",
            "batch_normalization_16\n",
            "dropout_28\n",
            "max_pooling2d_11\n",
            "dropout_29\n",
            "conv2d_30\n",
            "conv2d_31\n",
            "activation_27\n",
            "batch_normalization_17\n",
            "dropout_30\n",
            "conv2d_32\n",
            "activation_28\n",
            "batch_normalization_18\n",
            "dropout_31\n",
            "max_pooling2d_12\n",
            "dropout_32\n",
            "conv2d_33\n",
            "average_pooling2d_3\n",
            "flatten_4\n",
            "activation_29\n"
          ],
          "name": "stdout"
        }
      ]
    },
    {
      "cell_type": "code",
      "metadata": {
        "id": "kqUMj5KxbnXT",
        "colab_type": "code",
        "outputId": "691a5246-d317-495a-bc91-290c31d1f414",
        "colab": {
          "base_uri": "https://localhost:8080/",
          "height": 1000
        }
      },
      "source": [
        "# get input image\n",
        "import cv2\n",
        "from google.colab.patches import cv2_imshow\n",
        "\n",
        "# not part of the images the network was trained on\n",
        "images = [10,11,21,51,60,100,160,161,300,400,500,770,790,800,900,999]\n",
        "for j in images:\n",
        "  x = testX[j]\n",
        "  # required for loading and preprocessing our image\n",
        "  x = np.expand_dims(x, axis=0)\n",
        "\n",
        "  # Running the model in predict mode\n",
        "  preds = model.predict(x,batch_size=1)\n",
        "\n",
        "#  Here, in this case, let’s see the map for the top prediction\n",
        "# we get the predictions for the image and then we take the topmost class index\n",
        "  class_idx = np.argmax(preds[0])\n",
        "  \n",
        "  # Extracts the class output\n",
        "  # compute map for any class\n",
        "  class_output = model.output[:, class_idx]\n",
        "  # take the output from the final before convolutional layer in the above model which is conv2d_32\n",
        "  # The resulting feature map will be of shape 8×8×256.\n",
        "  last_conv_layer = model.get_layer(\"conv2d_32\")\n",
        "\n",
        "  #  compute the gradient of the class output value with respect to the feature map\n",
        "  # gradient with respect to the model’s conv2d_32 layer input\n",
        "  grads = K.gradients(class_output, last_conv_layer.output)[0]\n",
        "\n",
        "  #  pool the gradients over all the axes leaving out the channel dimension \n",
        "  # Defining the loss tensor for filter visualization \n",
        "  pooled_grads = K.mean(grads, axis=(0, 1, 2))\n",
        "\n",
        "# compute the value of the loss tensor and the gradient tensor, given input images\n",
        "# weigh the output feature map with the computed gradient values\n",
        "  iterate = K.function([model.input], [pooled_grads, last_conv_layer.output[0]])\n",
        "\n",
        "  '''iterate is a function that takes a Numpy tensor (as a list of tensors of size 1) and \n",
        "returns a list of two Numpy tensors: the loss value and the gradient value'''\n",
        "  pooled_grads_value, conv_layer_output_value = iterate([x])\n",
        "\n",
        "  #  define a Python loop to do stochastic gradient descent\n",
        "  for i in range(256):\n",
        "    conv_layer_output_value[:, :, i] *= pooled_grads_value[i]\n",
        "  \n",
        "  #  average the weighed feature map along the channel dimension resulting in a heat map of size 8 \\times 8\n",
        "  heatmap = np.mean(conv_layer_output_value, axis=-1)\n",
        "  # normalize the heat map to make the values in between 0 and 1\n",
        "  heatmap = np.maximum(heatmap, 0)\n",
        "  heatmap /= np.max(heatmap)\n",
        "\n",
        "  # read the image\n",
        "  img = (testX[j])\n",
        "  # use OpenCV to resize the existing heatmap to the image size\n",
        "  heatmap = cv2.resize(heatmap, (img.shape[1], img.shape[0]))\n",
        "  heatmap = np.uint8(255 * heatmap)\n",
        "  # blend the original image and the heatmap to superimpose the heatmap on to the image\n",
        "  heatmap = cv2.applyColorMap(heatmap, cv2.COLORMAP_JET)\n",
        "  superimposed_img = cv2.addWeighted(img, 0.6, heatmap, 0.4, 0)\n",
        "  #cv2_imshow(img)\n",
        "  #cv2_imshow(superimposed_img)\n",
        "  concatimg = cv2.hconcat([img,superimposed_img])\n",
        "  # Display the concatenated test image\n",
        "  print (j)\n",
        "  #clearly visible where CNN is looking in the image to actually distinguish between the classes\n",
        "  cv2_imshow(concatimg)\n",
        "  cv2.waitKey(0)\n",
        "  print (\" \")\n",
        "  j = j + 1\n"
      ],
      "execution_count": 0,
      "outputs": [
        {
          "output_type": "stream",
          "text": [
            "10\n"
          ],
          "name": "stdout"
        },
        {
          "output_type": "display_data",
          "data": {
            "image/png": "[encoded data removed]",
            "text/plain": [
              "<PIL.Image.Image image mode=RGB size=64x32 at 0x7F03FCA5A668>"
            ]
          },
          "metadata": {
            "tags": []
          }
        },
        {
          "output_type": "stream",
          "text": [
            " \n",
            "11\n"
          ],
          "name": "stdout"
        },
        {
          "output_type": "display_data",
          "data": {
            "image/png": "[encoded data removed]",
            "text/plain": [
              "<PIL.Image.Image image mode=RGB size=64x32 at 0x7F03FC0B9CC0>"
            ]
          },
          "metadata": {
            "tags": []
          }
        },
        {
          "output_type": "stream",
          "text": [
            " \n",
            "21\n"
          ],
          "name": "stdout"
        },
        {
          "output_type": "display_data",
          "data": {
            "image/png": "[encoded data removed]",
            "text/plain": [
              "<PIL.Image.Image image mode=RGB size=64x32 at 0x7F03FCA5A668>"
            ]
          },
          "metadata": {
            "tags": []
          }
        },
        {
          "output_type": "stream",
          "text": [
            " \n",
            "51\n"
          ],
          "name": "stdout"
        },
        {
          "output_type": "stream",
          "text": [
            "/usr/local/lib/python3.6/dist-packages/ipykernel_launcher.py:49: RuntimeWarning: invalid value encountered in true_divide\n"
          ],
          "name": "stderr"
        },
        {
          "output_type": "display_data",
          "data": {
            "image/png": "[encoded data removed]",
            "text/plain": [
              "<PIL.Image.Image image mode=RGB size=64x32 at 0x7F03C5EF96A0>"
            ]
          },
          "metadata": {
            "tags": []
          }
        },
        {
          "output_type": "stream",
          "text": [
            " \n",
            "60\n"
          ],
          "name": "stdout"
        },
        {
          "output_type": "display_data",
          "data": {
            "image/png": "[encoded data removed]",
            "text/plain": [
              "<PIL.Image.Image image mode=RGB size=64x32 at 0x7F03C5DE92E8>"
            ]
          },
          "metadata": {
            "tags": []
          }
        },
        {
          "output_type": "stream",
          "text": [
            " \n",
            "100\n"
          ],
          "name": "stdout"
        },
        {
          "output_type": "display_data",
          "data": {
            "image/png": "[encoded data removed]",
            "text/plain": [
              "<PIL.Image.Image image mode=RGB size=64x32 at 0x7F03C5FB0F60>"
            ]
          },
          "metadata": {
            "tags": []
          }
        },
        {
          "output_type": "stream",
          "text": [
            " \n",
            "160\n"
          ],
          "name": "stdout"
        },
        {
          "output_type": "display_data",
          "data": {
            "image/png": "[encoded data removed]",
            "text/plain": [
              "<PIL.Image.Image image mode=RGB size=64x32 at 0x7F03C5BC8C18>"
            ]
          },
          "metadata": {
            "tags": []
          }
        },
        {
          "output_type": "stream",
          "text": [
            " \n",
            "161\n"
          ],
          "name": "stdout"
        },
        {
          "output_type": "display_data",
          "data": {
            "image/png": "[encoded data removed]",
            "text/plain": [
              "<PIL.Image.Image image mode=RGB size=64x32 at 0x7F03C5D15DD8>"
            ]
          },
          "metadata": {
            "tags": []
          }
        },
        {
          "output_type": "stream",
          "text": [
            " \n",
            "300\n"
          ],
          "name": "stdout"
        },
        {
          "output_type": "display_data",
          "data": {
            "image/png": "[encoded data removed]",
            "text/plain": [
              "<PIL.Image.Image image mode=RGB size=64x32 at 0x7F03C5CE7BE0>"
            ]
          },
          "metadata": {
            "tags": []
          }
        },
        {
          "output_type": "stream",
          "text": [
            " \n",
            "400\n"
          ],
          "name": "stdout"
        },
        {
          "output_type": "display_data",
          "data": {
            "image/png": "[encoded data removed]",
            "text/plain": [
              "<PIL.Image.Image image mode=RGB size=64x32 at 0x7F03C5B6F5F8>"
            ]
          },
          "metadata": {
            "tags": []
          }
        },
        {
          "output_type": "stream",
          "text": [
            " \n",
            "500\n"
          ],
          "name": "stdout"
        },
        {
          "output_type": "display_data",
          "data": {
            "image/png": "[encoded data removed]",
            "text/plain": [
              "<PIL.Image.Image image mode=RGB size=64x32 at 0x7F03C5CE7BE0>"
            ]
          },
          "metadata": {
            "tags": []
          }
        },
        {
          "output_type": "stream",
          "text": [
            " \n",
            "770\n"
          ],
          "name": "stdout"
        },
        {
          "output_type": "display_data",
          "data": {
            "image/png": "[encoded data removed]",
            "text/plain": [
              "<PIL.Image.Image image mode=RGB size=64x32 at 0x7F03C5A37A90>"
            ]
          },
          "metadata": {
            "tags": []
          }
        },
        {
          "output_type": "stream",
          "text": [
            " \n",
            "790\n"
          ],
          "name": "stdout"
        },
        {
          "output_type": "stream",
          "text": [
            "/usr/local/lib/python3.6/dist-packages/ipykernel_launcher.py:49: RuntimeWarning: invalid value encountered in true_divide\n"
          ],
          "name": "stderr"
        },
        {
          "output_type": "display_data",
          "data": {
            "image/png": "[encoded data removed]",
            "text/plain": [
              "<PIL.Image.Image image mode=RGB size=64x32 at 0x7F03C5B6F5F8>"
            ]
          },
          "metadata": {
            "tags": []
          }
        },
        {
          "output_type": "stream",
          "text": [
            " \n",
            "800\n"
          ],
          "name": "stdout"
        },
        {
          "output_type": "display_data",
          "data": {
            "image/png": "[encoded data removed]",
            "text/plain": [
              "<PIL.Image.Image image mode=RGB size=64x32 at 0x7F03C5BE3860>"
            ]
          },
          "metadata": {
            "tags": []
          }
        },
        {
          "output_type": "stream",
          "text": [
            " \n",
            "900\n"
          ],
          "name": "stdout"
        },
        {
          "output_type": "display_data",
          "data": {
            "image/png": "[encoded data removed]",
            "text/plain": [
              "<PIL.Image.Image image mode=RGB size=64x32 at 0x7F03C566F898>"
            ]
          },
          "metadata": {
            "tags": []
          }
        },
        {
          "output_type": "stream",
          "text": [
            " \n",
            "999\n"
          ],
          "name": "stdout"
        },
        {
          "output_type": "display_data",
          "data": {
            "image/png": "[encoded data removed]",
            "text/plain": [
              "<PIL.Image.Image image mode=RGB size=64x32 at 0x7F03C5BE3860>"
            ]
          },
          "metadata": {
            "tags": []
          }
        },
        {
          "output_type": "stream",
          "text": [
            " \n"
          ],
          "name": "stdout"
        }
      ]
    },
    {
      "cell_type": "markdown",
      "metadata": {
        "id": "mQ1H_Xos4F7b",
        "colab_type": "text"
      },
      "source": [
        "#Model with Cutout"
      ]
    },
    {
      "cell_type": "code",
      "metadata": {
        "id": "xdwBSEQhuSZR",
        "colab_type": "code",
        "outputId": "f615a49f-3bfe-469a-e181-d772cd631daf",
        "colab": {
          "base_uri": "https://localhost:8080/",
          "height": 224
        }
      },
      "source": [
        "# Define the model\n",
        "model = Sequential()\n",
        "\n",
        "model.add(Convolution2D(64, 3, 3, border_mode='same',kernel_regularizer=regularizers.l2(0.0001), input_shape=(32, 32, 3)))\n",
        "model.add(Activation('relu'))\n",
        "model.add(BatchNormalization())\n",
        "model.add(Dropout(0.1))\n",
        "\n",
        "model.add(Convolution2D(128, 3, 3,kernel_regularizer=regularizers.l2(0.0001),border_mode='same'))\n",
        "model.add(Activation('relu'))\n",
        "model.add(BatchNormalization())\n",
        "model.add(Dropout(0.1))\n",
        "\n",
        "\n",
        "model.add(MaxPooling2D(pool_size=(2, 2)))\n",
        "model.add(Dropout(0.1))\n",
        "\n",
        "model.add(Convolution2D(32, 1, 1))\n",
        "\n",
        "\n",
        "model.add(Convolution2D(64, 3, 3,kernel_regularizer=regularizers.l2(0.0001),border_mode='same'))\n",
        "model.add(Activation('relu'))\n",
        "model.add(BatchNormalization())\n",
        "model.add(Dropout(0.1))\n",
        "\n",
        "model.add(Convolution2D(128, 3, 3,kernel_regularizer=regularizers.l2(0.0001),border_mode='same'))\n",
        "model.add(Activation('relu'))\n",
        "model.add(BatchNormalization())\n",
        "model.add(Dropout(0.1))\n",
        "\n",
        "\n",
        "model.add(MaxPooling2D(pool_size=(2, 2)))\n",
        "model.add(Dropout(0.3))\n",
        "\n",
        "model.add(Convolution2D(32, 1, 1))\n",
        "\n",
        "\n",
        "model.add(Convolution2D(128, 3, 3,kernel_regularizer=regularizers.l2(0.0001), border_mode='same'))\n",
        "model.add(Activation('relu'))\n",
        "model.add(BatchNormalization())\n",
        "model.add(Dropout(0.1))\n",
        "\n",
        "\n",
        "model.add(Convolution2D(256, 3, 3,kernel_regularizer=regularizers.l2(0.0001), border_mode='same'))\n",
        "model.add(Activation('relu'))\n",
        "model.add(BatchNormalization())\n",
        "model.add(Dropout(0.1))\n",
        "\n",
        "\n",
        "model.add(MaxPooling2D(pool_size=(2, 2)))\n",
        "model.add(Dropout(0.2))\n",
        "\n",
        "model.add(Convolution2D(10, 1, 1))\n",
        "\n",
        "model.add(AveragePooling2D(pool_size = (4,4)))\n",
        "model.add(Flatten())\n",
        "\n",
        "\n",
        "model.add(Activation('softmax'))\n"
      ],
      "execution_count": 0,
      "outputs": [
        {
          "output_type": "stream",
          "text": [
            "/usr/local/lib/python3.6/dist-packages/ipykernel_launcher.py:3: UserWarning: Update your `Conv2D` call to the Keras 2 API: `Conv2D(64, (3, 3), kernel_regularizer=<keras.reg..., input_shape=(32, 32, 3..., padding=\"same\")`\n",
            "  This is separate from the ipykernel package so we can avoid doing imports until\n",
            "/usr/local/lib/python3.6/dist-packages/ipykernel_launcher.py:8: UserWarning: Update your `Conv2D` call to the Keras 2 API: `Conv2D(128, (3, 3), kernel_regularizer=<keras.reg..., padding=\"same\")`\n",
            "  \n",
            "/usr/local/lib/python3.6/dist-packages/ipykernel_launcher.py:17: UserWarning: Update your `Conv2D` call to the Keras 2 API: `Conv2D(32, (1, 1))`\n",
            "/usr/local/lib/python3.6/dist-packages/ipykernel_launcher.py:20: UserWarning: Update your `Conv2D` call to the Keras 2 API: `Conv2D(64, (3, 3), kernel_regularizer=<keras.reg..., padding=\"same\")`\n",
            "/usr/local/lib/python3.6/dist-packages/ipykernel_launcher.py:25: UserWarning: Update your `Conv2D` call to the Keras 2 API: `Conv2D(128, (3, 3), kernel_regularizer=<keras.reg..., padding=\"same\")`\n",
            "/usr/local/lib/python3.6/dist-packages/ipykernel_launcher.py:34: UserWarning: Update your `Conv2D` call to the Keras 2 API: `Conv2D(32, (1, 1))`\n",
            "/usr/local/lib/python3.6/dist-packages/ipykernel_launcher.py:37: UserWarning: Update your `Conv2D` call to the Keras 2 API: `Conv2D(128, (3, 3), kernel_regularizer=<keras.reg..., padding=\"same\")`\n",
            "/usr/local/lib/python3.6/dist-packages/ipykernel_launcher.py:43: UserWarning: Update your `Conv2D` call to the Keras 2 API: `Conv2D(256, (3, 3), kernel_regularizer=<keras.reg..., padding=\"same\")`\n",
            "/usr/local/lib/python3.6/dist-packages/ipykernel_launcher.py:52: UserWarning: Update your `Conv2D` call to the Keras 2 API: `Conv2D(10, (1, 1))`\n"
          ],
          "name": "stderr"
        }
      ]
    },
    {
      "cell_type": "code",
      "metadata": {
        "id": "wXaFNA-i-Crx",
        "colab_type": "code",
        "outputId": "fe43136d-a3af-4a70-dff0-ab0a3ce314a6",
        "colab": {
          "base_uri": "https://localhost:8080/",
          "height": 1000
        }
      },
      "source": [
        "model.summary()"
      ],
      "execution_count": 0,
      "outputs": [
        {
          "output_type": "stream",
          "text": [
            "_________________________________________________________________\n",
            "Layer (type)                 Output Shape              Param #   \n",
            "=================================================================\n",
            "conv2d_10 (Conv2D)           (None, 32, 32, 64)        1792      \n",
            "_________________________________________________________________\n",
            "activation_8 (Activation)    (None, 32, 32, 64)        0         \n",
            "_________________________________________________________________\n",
            "batch_normalization_7 (Batch (None, 32, 32, 64)        256       \n",
            "_________________________________________________________________\n",
            "dropout_10 (Dropout)         (None, 32, 32, 64)        0         \n",
            "_________________________________________________________________\n",
            "conv2d_11 (Conv2D)           (None, 32, 32, 128)       73856     \n",
            "_________________________________________________________________\n",
            "activation_9 (Activation)    (None, 32, 32, 128)       0         \n",
            "_________________________________________________________________\n",
            "batch_normalization_8 (Batch (None, 32, 32, 128)       512       \n",
            "_________________________________________________________________\n",
            "dropout_11 (Dropout)         (None, 32, 32, 128)       0         \n",
            "_________________________________________________________________\n",
            "max_pooling2d_4 (MaxPooling2 (None, 16, 16, 128)       0         \n",
            "_________________________________________________________________\n",
            "dropout_12 (Dropout)         (None, 16, 16, 128)       0         \n",
            "_________________________________________________________________\n",
            "conv2d_12 (Conv2D)           (None, 16, 16, 32)        4128      \n",
            "_________________________________________________________________\n",
            "conv2d_13 (Conv2D)           (None, 16, 16, 64)        18496     \n",
            "_________________________________________________________________\n",
            "activation_10 (Activation)   (None, 16, 16, 64)        0         \n",
            "_________________________________________________________________\n",
            "batch_normalization_9 (Batch (None, 16, 16, 64)        256       \n",
            "_________________________________________________________________\n",
            "dropout_13 (Dropout)         (None, 16, 16, 64)        0         \n",
            "_________________________________________________________________\n",
            "conv2d_14 (Conv2D)           (None, 16, 16, 128)       73856     \n",
            "_________________________________________________________________\n",
            "activation_11 (Activation)   (None, 16, 16, 128)       0         \n",
            "_________________________________________________________________\n",
            "batch_normalization_10 (Batc (None, 16, 16, 128)       512       \n",
            "_________________________________________________________________\n",
            "dropout_14 (Dropout)         (None, 16, 16, 128)       0         \n",
            "_________________________________________________________________\n",
            "max_pooling2d_5 (MaxPooling2 (None, 8, 8, 128)         0         \n",
            "_________________________________________________________________\n",
            "dropout_15 (Dropout)         (None, 8, 8, 128)         0         \n",
            "_________________________________________________________________\n",
            "conv2d_15 (Conv2D)           (None, 8, 8, 32)          4128      \n",
            "_________________________________________________________________\n",
            "conv2d_16 (Conv2D)           (None, 8, 8, 128)         36992     \n",
            "_________________________________________________________________\n",
            "activation_12 (Activation)   (None, 8, 8, 128)         0         \n",
            "_________________________________________________________________\n",
            "batch_normalization_11 (Batc (None, 8, 8, 128)         512       \n",
            "_________________________________________________________________\n",
            "dropout_16 (Dropout)         (None, 8, 8, 128)         0         \n",
            "_________________________________________________________________\n",
            "conv2d_17 (Conv2D)           (None, 8, 8, 256)         295168    \n",
            "_________________________________________________________________\n",
            "activation_13 (Activation)   (None, 8, 8, 256)         0         \n",
            "_________________________________________________________________\n",
            "batch_normalization_12 (Batc (None, 8, 8, 256)         1024      \n",
            "_________________________________________________________________\n",
            "dropout_17 (Dropout)         (None, 8, 8, 256)         0         \n",
            "_________________________________________________________________\n",
            "max_pooling2d_6 (MaxPooling2 (None, 4, 4, 256)         0         \n",
            "_________________________________________________________________\n",
            "dropout_18 (Dropout)         (None, 4, 4, 256)         0         \n",
            "_________________________________________________________________\n",
            "conv2d_18 (Conv2D)           (None, 4, 4, 10)          2570      \n",
            "_________________________________________________________________\n",
            "average_pooling2d_2 (Average (None, 1, 1, 10)          0         \n",
            "_________________________________________________________________\n",
            "flatten_2 (Flatten)          (None, 10)                0         \n",
            "_________________________________________________________________\n",
            "activation_14 (Activation)   (None, 10)                0         \n",
            "=================================================================\n",
            "Total params: 514,058\n",
            "Trainable params: 512,522\n",
            "Non-trainable params: 1,536\n",
            "_________________________________________________________________\n"
          ],
          "name": "stdout"
        }
      ]
    },
    {
      "cell_type": "code",
      "metadata": {
        "id": "8YQf9cmr-Gsj",
        "colab_type": "code",
        "colab": {}
      },
      "source": [
        "from keras.callbacks import ModelCheckpoint,ReduceLROnPlateau\n",
        "\n",
        "checkpointer1 = ModelCheckpoint(filepath='../content/drive/My Drive/EIP/model_assignment9.h5', monitor='val_acc', mode='auto', verbose = 1, save_best_only=True)\n",
        "lr_reducer1 = ReduceLROnPlateau(monitor='val_acc',factor=0.8, cooldown=0, patience=5, min_lr=0.5e-9,verbose = 1)\n",
        "\n",
        "\n",
        "\n",
        "# Compile the model\n",
        "model.compile(optimizer='adam', loss='categorical_crossentropy', metrics=['accuracy'])\n"
      ],
      "execution_count": 0,
      "outputs": []
    },
    {
      "cell_type": "code",
      "metadata": {
        "id": "y2klmTqs-I6q",
        "colab_type": "code",
        "colab": {}
      },
      "source": [
        "# Reference : https://github.com/yu4u/cutout-random-erasing"
      ],
      "execution_count": 0,
      "outputs": []
    },
    {
      "cell_type": "code",
      "metadata": {
        "id": "znwyqlzEHWwD",
        "colab_type": "code",
        "colab": {}
      },
      "source": [
        "def get_random_eraser(p=0.5, s_l=0.02, s_h=0.4, r_1=0.3, r_2=1/0.3, v_l=0, v_h=255, pixel_level=False):\n",
        "    def eraser(input_img):\n",
        "        img_h, img_w, img_c = input_img.shape\n",
        "        p_1 = np.random.rand()\n",
        "\n",
        "        if p_1 > p:\n",
        "            return input_img\n",
        "\n",
        "        while True:\n",
        "            s = np.random.uniform(s_l, s_h) * img_h * img_w\n",
        "            r = np.random.uniform(r_1, r_2)\n",
        "            w = int(np.sqrt(s / r))\n",
        "            h = int(np.sqrt(s * r))\n",
        "            left = np.random.randint(0, img_w)\n",
        "            top = np.random.randint(0, img_h)\n",
        "\n",
        "            if left + w <= img_w and top + h <= img_h:\n",
        "                break\n",
        "\n",
        "        if pixel_level:\n",
        "            c = np.random.uniform(v_l, v_h, (h, w, img_c))\n",
        "        else:\n",
        "            c = np.random.uniform(v_l, v_h)\n",
        "\n",
        "        input_img[top:top + h, left:left + w, :] = c\n",
        "\n",
        "        return input_img\n",
        "\n",
        "    return eraser"
      ],
      "execution_count": 0,
      "outputs": []
    },
    {
      "cell_type": "code",
      "metadata": {
        "id": "PRrO-BW8-wh_",
        "colab_type": "code",
        "outputId": "f6d23e5f-3fd4-41eb-ac3b-7cceab7a168f",
        "colab": {
          "base_uri": "https://localhost:8080/",
          "height": 1000
        }
      },
      "source": [
        "from keras.preprocessing.image import ImageDataGenerator\n",
        "\n",
        "datagen = ImageDataGenerator(zoom_range=0.0, \n",
        "                             horizontal_flip=False,\n",
        "                             preprocessing_function=get_random_eraser(v_l=0, v_h=1, pixel_level=True))\n",
        "\n",
        "\n",
        "# train the model\n",
        "start = time.time()\n",
        "# Train the model\n",
        "model_info = model.fit_generator(datagen.flow(X_train, Y_train, batch_size = 128),\n",
        "                                 samples_per_epoch = train_features.shape[0], nb_epoch = 100, \n",
        "                                 validation_data = (X_test, Y_test), callbacks=[checkpointer1,lr_reducer1],verbose=1)\n",
        "end = time.time()\n",
        "print (\"Model took %0.2f seconds to train\"%(end - start))\n",
        "# plot model history\n",
        "plot_model_history(model_info)\n",
        "# compute test accuracy\n",
        "print (\"Accuracy on test data is: %0.2f\"%accuracy(X_test, Y_test, model))"
      ],
      "execution_count": 38,
      "outputs": [
        {
          "output_type": "stream",
          "text": [
            "/usr/local/lib/python3.6/dist-packages/ipykernel_launcher.py:13: UserWarning: The semantics of the Keras 2 argument `steps_per_epoch` is not the same as the Keras 1 argument `samples_per_epoch`. `steps_per_epoch` is the number of batches to draw from the generator at each epoch. Basically steps_per_epoch = samples_per_epoch/batch_size. Similarly `nb_val_samples`->`validation_steps` and `val_samples`->`steps` arguments have changed. Update your method calls accordingly.\n",
            "  del sys.path[0]\n",
            "/usr/local/lib/python3.6/dist-packages/ipykernel_launcher.py:13: UserWarning: Update your `fit_generator` call to the Keras 2 API: `fit_generator(<keras_pre..., validation_data=(array([[[..., callbacks=[<keras.ca..., verbose=1, steps_per_epoch=390, epochs=100)`\n",
            "  del sys.path[0]\n"
          ],
          "name": "stderr"
        },
        {
          "output_type": "stream",
          "text": [
            "Epoch 1/100\n",
            "390/390 [==============================] - 27s 68ms/step - loss: 1.0875 - acc: 0.6353 - val_loss: 0.9752 - val_acc: 0.6816\n",
            "\n",
            "Epoch 00001: val_acc improved from -inf to 0.68160, saving model to ../content/drive/My Drive/EIP/model_assignment9.h5\n",
            "Epoch 2/100\n",
            "390/390 [==============================] - 24s 63ms/step - loss: 0.9131 - acc: 0.7011 - val_loss: 0.8406 - val_acc: 0.7269\n",
            "\n",
            "Epoch 00002: val_acc improved from 0.68160 to 0.72690, saving model to ../content/drive/My Drive/EIP/model_assignment9.h5\n",
            "Epoch 3/100\n",
            "390/390 [==============================] - 24s 61ms/step - loss: 0.8145 - acc: 0.7432 - val_loss: 0.8298 - val_acc: 0.7410\n",
            "\n",
            "Epoch 00003: val_acc improved from 0.72690 to 0.74100, saving model to ../content/drive/My Drive/EIP/model_assignment9.h5\n",
            "Epoch 4/100\n",
            "390/390 [==============================] - 24s 62ms/step - loss: 0.7528 - acc: 0.7653 - val_loss: 0.7162 - val_acc: 0.7808\n",
            "\n",
            "Epoch 00004: val_acc improved from 0.74100 to 0.78080, saving model to ../content/drive/My Drive/EIP/model_assignment9.h5\n",
            "Epoch 5/100\n",
            "390/390 [==============================] - 24s 63ms/step - loss: 0.7067 - acc: 0.7838 - val_loss: 0.6873 - val_acc: 0.7956\n",
            "\n",
            "Epoch 00005: val_acc improved from 0.78080 to 0.79560, saving model to ../content/drive/My Drive/EIP/model_assignment9.h5\n",
            "Epoch 6/100\n",
            "390/390 [==============================] - 24s 62ms/step - loss: 0.6799 - acc: 0.7967 - val_loss: 0.7044 - val_acc: 0.7966\n",
            "\n",
            "Epoch 00006: val_acc improved from 0.79560 to 0.79660, saving model to ../content/drive/My Drive/EIP/model_assignment9.h5\n",
            "Epoch 7/100\n",
            "390/390 [==============================] - 25s 63ms/step - loss: 0.6547 - acc: 0.8081 - val_loss: 0.6413 - val_acc: 0.8170\n",
            "\n",
            "Epoch 00007: val_acc improved from 0.79660 to 0.81700, saving model to ../content/drive/My Drive/EIP/model_assignment9.h5\n",
            "Epoch 8/100\n",
            "390/390 [==============================] - 24s 62ms/step - loss: 0.6336 - acc: 0.8172 - val_loss: 0.6656 - val_acc: 0.8122\n",
            "\n",
            "Epoch 00008: val_acc did not improve from 0.81700\n",
            "Epoch 9/100\n",
            "390/390 [==============================] - 24s 62ms/step - loss: 0.6227 - acc: 0.8239 - val_loss: 0.6270 - val_acc: 0.8275\n",
            "\n",
            "Epoch 00009: val_acc improved from 0.81700 to 0.82750, saving model to ../content/drive/My Drive/EIP/model_assignment9.h5\n",
            "Epoch 10/100\n",
            "390/390 [==============================] - 24s 62ms/step - loss: 0.6005 - acc: 0.8334 - val_loss: 0.6209 - val_acc: 0.8314\n",
            "\n",
            "Epoch 00010: val_acc improved from 0.82750 to 0.83140, saving model to ../content/drive/My Drive/EIP/model_assignment9.h5\n",
            "Epoch 11/100\n",
            "390/390 [==============================] - 24s 62ms/step - loss: 0.5947 - acc: 0.8350 - val_loss: 0.6487 - val_acc: 0.8213\n",
            "\n",
            "Epoch 00011: val_acc did not improve from 0.83140\n",
            "Epoch 12/100\n",
            "390/390 [==============================] - 24s 62ms/step - loss: 0.5808 - acc: 0.8425 - val_loss: 0.6069 - val_acc: 0.8465\n",
            "\n",
            "Epoch 00012: val_acc improved from 0.83140 to 0.84650, saving model to ../content/drive/My Drive/EIP/model_assignment9.h5\n",
            "Epoch 13/100\n",
            "390/390 [==============================] - 24s 62ms/step - loss: 0.5804 - acc: 0.8448 - val_loss: 0.6300 - val_acc: 0.8309\n",
            "\n",
            "Epoch 00013: val_acc did not improve from 0.84650\n",
            "Epoch 14/100\n",
            "390/390 [==============================] - 24s 62ms/step - loss: 0.5647 - acc: 0.8528 - val_loss: 0.6321 - val_acc: 0.8337\n",
            "\n",
            "Epoch 00014: val_acc did not improve from 0.84650\n",
            "Epoch 15/100\n",
            "390/390 [==============================] - 24s 63ms/step - loss: 0.5563 - acc: 0.8561 - val_loss: 0.6106 - val_acc: 0.8417\n",
            "\n",
            "Epoch 00015: val_acc did not improve from 0.84650\n",
            "Epoch 16/100\n",
            "390/390 [==============================] - 24s 63ms/step - loss: 0.5588 - acc: 0.8549 - val_loss: 0.6135 - val_acc: 0.8450\n",
            "\n",
            "Epoch 00016: val_acc did not improve from 0.84650\n",
            "Epoch 17/100\n",
            "390/390 [==============================] - 24s 62ms/step - loss: 0.5532 - acc: 0.8614 - val_loss: 0.6378 - val_acc: 0.8404\n",
            "\n",
            "Epoch 00017: val_acc did not improve from 0.84650\n",
            "\n",
            "Epoch 00017: ReduceLROnPlateau reducing learning rate to 0.000800000037997961.\n",
            "Epoch 18/100\n",
            "390/390 [==============================] - 24s 62ms/step - loss: 0.5204 - acc: 0.8704 - val_loss: 0.5898 - val_acc: 0.8542\n",
            "\n",
            "Epoch 00018: val_acc improved from 0.84650 to 0.85420, saving model to ../content/drive/My Drive/EIP/model_assignment9.h5\n",
            "Epoch 19/100\n",
            "390/390 [==============================] - 24s 62ms/step - loss: 0.5048 - acc: 0.8776 - val_loss: 0.5886 - val_acc: 0.8502\n",
            "\n",
            "Epoch 00019: val_acc did not improve from 0.85420\n",
            "Epoch 20/100\n",
            "390/390 [==============================] - 24s 62ms/step - loss: 0.5021 - acc: 0.8775 - val_loss: 0.5790 - val_acc: 0.8556\n",
            "\n",
            "Epoch 00020: val_acc improved from 0.85420 to 0.85560, saving model to ../content/drive/My Drive/EIP/model_assignment9.h5\n",
            "Epoch 21/100\n",
            "390/390 [==============================] - 24s 62ms/step - loss: 0.4921 - acc: 0.8804 - val_loss: 0.7075 - val_acc: 0.8169\n",
            "\n",
            "Epoch 00021: val_acc did not improve from 0.85560\n",
            "Epoch 22/100\n",
            "390/390 [==============================] - 24s 62ms/step - loss: 0.4905 - acc: 0.8816 - val_loss: 0.5761 - val_acc: 0.8599\n",
            "\n",
            "Epoch 00022: val_acc improved from 0.85560 to 0.85990, saving model to ../content/drive/My Drive/EIP/model_assignment9.h5\n",
            "Epoch 23/100\n",
            "390/390 [==============================] - 24s 62ms/step - loss: 0.4886 - acc: 0.8839 - val_loss: 0.5870 - val_acc: 0.8587\n",
            "\n",
            "Epoch 00023: val_acc did not improve from 0.85990\n",
            "Epoch 24/100\n",
            "390/390 [==============================] - 24s 62ms/step - loss: 0.4822 - acc: 0.8869 - val_loss: 0.5819 - val_acc: 0.8593\n",
            "\n",
            "Epoch 00024: val_acc did not improve from 0.85990\n",
            "Epoch 25/100\n",
            "390/390 [==============================] - 24s 63ms/step - loss: 0.4788 - acc: 0.8865 - val_loss: 0.5781 - val_acc: 0.8593\n",
            "\n",
            "Epoch 00025: val_acc did not improve from 0.85990\n",
            "Epoch 26/100\n",
            "390/390 [==============================] - 24s 62ms/step - loss: 0.4711 - acc: 0.8896 - val_loss: 0.5963 - val_acc: 0.8627\n",
            "\n",
            "Epoch 00026: val_acc improved from 0.85990 to 0.86270, saving model to ../content/drive/My Drive/EIP/model_assignment9.h5\n",
            "Epoch 27/100\n",
            "390/390 [==============================] - 24s 63ms/step - loss: 0.4733 - acc: 0.8890 - val_loss: 0.6152 - val_acc: 0.8548\n",
            "\n",
            "Epoch 00027: val_acc did not improve from 0.86270\n",
            "Epoch 28/100\n",
            "390/390 [==============================] - 24s 63ms/step - loss: 0.4709 - acc: 0.8914 - val_loss: 0.6062 - val_acc: 0.8528\n",
            "\n",
            "Epoch 00028: val_acc did not improve from 0.86270\n",
            "Epoch 29/100\n",
            "390/390 [==============================] - 24s 63ms/step - loss: 0.4644 - acc: 0.8936 - val_loss: 0.6602 - val_acc: 0.8354\n",
            "\n",
            "Epoch 00029: val_acc did not improve from 0.86270\n",
            "Epoch 30/100\n",
            "390/390 [==============================] - 24s 62ms/step - loss: 0.4625 - acc: 0.8943 - val_loss: 0.6357 - val_acc: 0.8537\n",
            "\n",
            "Epoch 00030: val_acc did not improve from 0.86270\n",
            "Epoch 31/100\n",
            "390/390 [==============================] - 24s 62ms/step - loss: 0.4646 - acc: 0.8952 - val_loss: 0.6295 - val_acc: 0.8487\n",
            "\n",
            "Epoch 00031: val_acc did not improve from 0.86270\n",
            "\n",
            "Epoch 00031: ReduceLROnPlateau reducing learning rate to 0.0006400000303983689.\n",
            "Epoch 32/100\n",
            "390/390 [==============================] - 24s 62ms/step - loss: 0.4399 - acc: 0.9015 - val_loss: 0.5562 - val_acc: 0.8707\n",
            "\n",
            "Epoch 00032: val_acc improved from 0.86270 to 0.87070, saving model to ../content/drive/My Drive/EIP/model_assignment9.h5\n",
            "Epoch 33/100\n",
            "390/390 [==============================] - 24s 62ms/step - loss: 0.4275 - acc: 0.9068 - val_loss: 0.5481 - val_acc: 0.8724\n",
            "\n",
            "Epoch 00033: val_acc improved from 0.87070 to 0.87240, saving model to ../content/drive/My Drive/EIP/model_assignment9.h5\n",
            "Epoch 34/100\n",
            "390/390 [==============================] - 24s 63ms/step - loss: 0.4206 - acc: 0.9089 - val_loss: 0.5635 - val_acc: 0.8696\n",
            "\n",
            "Epoch 00034: val_acc did not improve from 0.87240\n",
            "Epoch 35/100\n",
            "390/390 [==============================] - 24s 62ms/step - loss: 0.4254 - acc: 0.9074 - val_loss: 0.5831 - val_acc: 0.8590\n",
            "\n",
            "Epoch 00035: val_acc did not improve from 0.87240\n",
            "Epoch 36/100\n",
            "390/390 [==============================] - 24s 62ms/step - loss: 0.4185 - acc: 0.9093 - val_loss: 0.5499 - val_acc: 0.8773\n",
            "\n",
            "Epoch 00036: val_acc improved from 0.87240 to 0.87730, saving model to ../content/drive/My Drive/EIP/model_assignment9.h5\n",
            "Epoch 37/100\n",
            "390/390 [==============================] - 24s 63ms/step - loss: 0.4121 - acc: 0.9079 - val_loss: 0.5306 - val_acc: 0.8836\n",
            "\n",
            "Epoch 00037: val_acc improved from 0.87730 to 0.88360, saving model to ../content/drive/My Drive/EIP/model_assignment9.h5\n",
            "Epoch 38/100\n",
            "390/390 [==============================] - 24s 62ms/step - loss: 0.4070 - acc: 0.9124 - val_loss: 0.5935 - val_acc: 0.8579\n",
            "\n",
            "Epoch 00038: val_acc did not improve from 0.88360\n",
            "Epoch 39/100\n",
            "390/390 [==============================] - 24s 63ms/step - loss: 0.4130 - acc: 0.9098 - val_loss: 0.5636 - val_acc: 0.8713\n",
            "\n",
            "Epoch 00039: val_acc did not improve from 0.88360\n",
            "Epoch 40/100\n",
            "390/390 [==============================] - 24s 62ms/step - loss: 0.4112 - acc: 0.9092 - val_loss: 0.5477 - val_acc: 0.8724\n",
            "\n",
            "Epoch 00040: val_acc did not improve from 0.88360\n",
            "Epoch 41/100\n",
            "390/390 [==============================] - 24s 62ms/step - loss: 0.4065 - acc: 0.9113 - val_loss: 0.5803 - val_acc: 0.8654\n",
            "\n",
            "Epoch 00041: val_acc did not improve from 0.88360\n",
            "Epoch 42/100\n",
            "390/390 [==============================] - 24s 62ms/step - loss: 0.4028 - acc: 0.9127 - val_loss: 0.5569 - val_acc: 0.8736\n",
            "\n",
            "Epoch 00042: val_acc did not improve from 0.88360\n",
            "\n",
            "Epoch 00042: ReduceLROnPlateau reducing learning rate to 0.0005120000336319208.\n",
            "Epoch 43/100\n",
            "390/390 [==============================] - 24s 62ms/step - loss: 0.3821 - acc: 0.9211 - val_loss: 0.5373 - val_acc: 0.8760\n",
            "\n",
            "Epoch 00043: val_acc did not improve from 0.88360\n",
            "Epoch 44/100\n",
            "390/390 [==============================] - 24s 62ms/step - loss: 0.3770 - acc: 0.9213 - val_loss: 0.5548 - val_acc: 0.8737\n",
            "\n",
            "Epoch 00044: val_acc did not improve from 0.88360\n",
            "Epoch 45/100\n",
            "390/390 [==============================] - 24s 62ms/step - loss: 0.3729 - acc: 0.9219 - val_loss: 0.5648 - val_acc: 0.8714\n",
            "\n",
            "Epoch 00045: val_acc did not improve from 0.88360\n",
            "Epoch 46/100\n",
            "390/390 [==============================] - 24s 62ms/step - loss: 0.3669 - acc: 0.9250 - val_loss: 0.5447 - val_acc: 0.8725\n",
            "\n",
            "Epoch 00046: val_acc did not improve from 0.88360\n",
            "Epoch 47/100\n",
            "390/390 [==============================] - 24s 62ms/step - loss: 0.3675 - acc: 0.9251 - val_loss: 0.6163 - val_acc: 0.8618\n",
            "\n",
            "Epoch 00047: val_acc did not improve from 0.88360\n",
            "\n",
            "Epoch 00047: ReduceLROnPlateau reducing learning rate to 0.00040960004553198815.\n",
            "Epoch 48/100\n",
            "390/390 [==============================] - 24s 62ms/step - loss: 0.3479 - acc: 0.9312 - val_loss: 0.5344 - val_acc: 0.8767\n",
            "\n",
            "Epoch 00048: val_acc did not improve from 0.88360\n",
            "Epoch 49/100\n",
            "390/390 [==============================] - 25s 64ms/step - loss: 0.3451 - acc: 0.9309 - val_loss: 0.5436 - val_acc: 0.8761\n",
            "\n",
            "Epoch 00049: val_acc did not improve from 0.88360\n",
            "Epoch 50/100\n",
            "390/390 [==============================] - 24s 63ms/step - loss: 0.3345 - acc: 0.9335 - val_loss: 0.5259 - val_acc: 0.8794\n",
            "\n",
            "Epoch 00050: val_acc did not improve from 0.88360\n",
            "Epoch 51/100\n",
            "390/390 [==============================] - 24s 62ms/step - loss: 0.3368 - acc: 0.9324 - val_loss: 0.5237 - val_acc: 0.8824\n",
            "\n",
            "Epoch 00051: val_acc did not improve from 0.88360\n",
            "Epoch 52/100\n",
            "390/390 [==============================] - 24s 62ms/step - loss: 0.3347 - acc: 0.9334 - val_loss: 0.5318 - val_acc: 0.8783\n",
            "\n",
            "Epoch 00052: val_acc did not improve from 0.88360\n",
            "\n",
            "Epoch 00052: ReduceLROnPlateau reducing learning rate to 0.00032768002711236477.\n",
            "Epoch 53/100\n",
            "390/390 [==============================] - 25s 63ms/step - loss: 0.3240 - acc: 0.9355 - val_loss: 0.5110 - val_acc: 0.8807\n",
            "\n",
            "Epoch 00053: val_acc did not improve from 0.88360\n",
            "Epoch 54/100\n",
            "390/390 [==============================] - 24s 62ms/step - loss: 0.3144 - acc: 0.9400 - val_loss: 0.5147 - val_acc: 0.8849\n",
            "\n",
            "Epoch 00054: val_acc improved from 0.88360 to 0.88490, saving model to ../content/drive/My Drive/EIP/model_assignment9.h5\n",
            "Epoch 55/100\n",
            "390/390 [==============================] - 24s 62ms/step - loss: 0.3129 - acc: 0.9395 - val_loss: 0.5089 - val_acc: 0.8867\n",
            "\n",
            "Epoch 00055: val_acc improved from 0.88490 to 0.88670, saving model to ../content/drive/My Drive/EIP/model_assignment9.h5\n",
            "Epoch 56/100\n",
            "390/390 [==============================] - 24s 62ms/step - loss: 0.3136 - acc: 0.9379 - val_loss: 0.5155 - val_acc: 0.8820\n",
            "\n",
            "Epoch 00056: val_acc did not improve from 0.88670\n",
            "Epoch 57/100\n",
            "390/390 [==============================] - 24s 62ms/step - loss: 0.3061 - acc: 0.9403 - val_loss: 0.5117 - val_acc: 0.8837\n",
            "\n",
            "Epoch 00057: val_acc did not improve from 0.88670\n",
            "Epoch 58/100\n",
            "390/390 [==============================] - 24s 62ms/step - loss: 0.3038 - acc: 0.9412 - val_loss: 0.5020 - val_acc: 0.8830\n",
            "\n",
            "Epoch 00058: val_acc did not improve from 0.88670\n",
            "Epoch 59/100\n",
            "390/390 [==============================] - 24s 62ms/step - loss: 0.3069 - acc: 0.9396 - val_loss: 0.5142 - val_acc: 0.8788\n",
            "\n",
            "Epoch 00059: val_acc did not improve from 0.88670\n",
            "Epoch 60/100\n",
            "390/390 [==============================] - 24s 62ms/step - loss: 0.2994 - acc: 0.9422 - val_loss: 0.5335 - val_acc: 0.8791\n",
            "\n",
            "Epoch 00060: val_acc did not improve from 0.88670\n",
            "\n",
            "Epoch 00060: ReduceLROnPlateau reducing learning rate to 0.0002621440216898918.\n",
            "Epoch 61/100\n",
            "390/390 [==============================] - 24s 62ms/step - loss: 0.2899 - acc: 0.9456 - val_loss: 0.5171 - val_acc: 0.8793\n",
            "\n",
            "Epoch 00061: val_acc did not improve from 0.88670\n",
            "Epoch 62/100\n",
            "390/390 [==============================] - 24s 63ms/step - loss: 0.2864 - acc: 0.9453 - val_loss: 0.5129 - val_acc: 0.8802\n",
            "\n",
            "Epoch 00062: val_acc did not improve from 0.88670\n",
            "Epoch 63/100\n",
            "390/390 [==============================] - 24s 62ms/step - loss: 0.2829 - acc: 0.9467 - val_loss: 0.5001 - val_acc: 0.8869\n",
            "\n",
            "Epoch 00063: val_acc improved from 0.88670 to 0.88690, saving model to ../content/drive/My Drive/EIP/model_assignment9.h5\n",
            "Epoch 64/100\n",
            "390/390 [==============================] - 24s 62ms/step - loss: 0.2783 - acc: 0.9480 - val_loss: 0.4923 - val_acc: 0.8864\n",
            "\n",
            "Epoch 00064: val_acc did not improve from 0.88690\n",
            "Epoch 65/100\n",
            "390/390 [==============================] - 24s 63ms/step - loss: 0.2800 - acc: 0.9481 - val_loss: 0.5067 - val_acc: 0.8840\n",
            "\n",
            "Epoch 00065: val_acc did not improve from 0.88690\n",
            "Epoch 66/100\n",
            "390/390 [==============================] - 24s 63ms/step - loss: 0.2764 - acc: 0.9476 - val_loss: 0.5036 - val_acc: 0.8853\n",
            "\n",
            "Epoch 00066: val_acc did not improve from 0.88690\n",
            "Epoch 67/100\n",
            "390/390 [==============================] - 24s 62ms/step - loss: 0.2764 - acc: 0.9474 - val_loss: 0.4960 - val_acc: 0.8880\n",
            "\n",
            "Epoch 00067: val_acc improved from 0.88690 to 0.88800, saving model to ../content/drive/My Drive/EIP/model_assignment9.h5\n",
            "Epoch 68/100\n",
            "390/390 [==============================] - 24s 63ms/step - loss: 0.2736 - acc: 0.9480 - val_loss: 0.4901 - val_acc: 0.8869\n",
            "\n",
            "Epoch 00068: val_acc did not improve from 0.88800\n",
            "Epoch 69/100\n",
            "390/390 [==============================] - 24s 62ms/step - loss: 0.2731 - acc: 0.9473 - val_loss: 0.5286 - val_acc: 0.8807\n",
            "\n",
            "Epoch 00069: val_acc did not improve from 0.88800\n",
            "Epoch 70/100\n",
            "390/390 [==============================] - 24s 62ms/step - loss: 0.2716 - acc: 0.9493 - val_loss: 0.4922 - val_acc: 0.8850\n",
            "\n",
            "Epoch 00070: val_acc did not improve from 0.88800\n",
            "Epoch 71/100\n",
            "390/390 [==============================] - 24s 63ms/step - loss: 0.2712 - acc: 0.9477 - val_loss: 0.5318 - val_acc: 0.8790\n",
            "\n",
            "Epoch 00071: val_acc did not improve from 0.88800\n",
            "Epoch 72/100\n",
            "390/390 [==============================] - 24s 62ms/step - loss: 0.2675 - acc: 0.9487 - val_loss: 0.5122 - val_acc: 0.8809\n",
            "\n",
            "Epoch 00072: val_acc did not improve from 0.88800\n",
            "\n",
            "Epoch 00072: ReduceLROnPlateau reducing learning rate to 0.00020971521735191345.\n",
            "Epoch 73/100\n",
            "390/390 [==============================] - 24s 62ms/step - loss: 0.2653 - acc: 0.9493 - val_loss: 0.4976 - val_acc: 0.8847\n",
            "\n",
            "Epoch 00073: val_acc did not improve from 0.88800\n",
            "Epoch 74/100\n",
            "390/390 [==============================] - 24s 62ms/step - loss: 0.2574 - acc: 0.9517 - val_loss: 0.4953 - val_acc: 0.8858\n",
            "\n",
            "Epoch 00074: val_acc did not improve from 0.88800\n",
            "Epoch 75/100\n",
            "390/390 [==============================] - 24s 62ms/step - loss: 0.2588 - acc: 0.9511 - val_loss: 0.4833 - val_acc: 0.8905\n",
            "\n",
            "Epoch 00075: val_acc improved from 0.88800 to 0.89050, saving model to ../content/drive/My Drive/EIP/model_assignment9.h5\n",
            "Epoch 76/100\n",
            "390/390 [==============================] - 24s 62ms/step - loss: 0.2500 - acc: 0.9538 - val_loss: 0.4853 - val_acc: 0.8895\n",
            "\n",
            "Epoch 00076: val_acc did not improve from 0.89050\n",
            "Epoch 77/100\n",
            "390/390 [==============================] - 24s 63ms/step - loss: 0.2524 - acc: 0.9538 - val_loss: 0.4912 - val_acc: 0.8898\n",
            "\n",
            "Epoch 00077: val_acc did not improve from 0.89050\n",
            "Epoch 78/100\n",
            "390/390 [==============================] - 24s 63ms/step - loss: 0.2488 - acc: 0.9544 - val_loss: 0.4951 - val_acc: 0.8870\n",
            "\n",
            "Epoch 00078: val_acc did not improve from 0.89050\n",
            "Epoch 79/100\n",
            "390/390 [==============================] - 24s 62ms/step - loss: 0.2465 - acc: 0.9546 - val_loss: 0.4989 - val_acc: 0.8865\n",
            "\n",
            "Epoch 00079: val_acc did not improve from 0.89050\n",
            "Epoch 80/100\n",
            "390/390 [==============================] - 24s 62ms/step - loss: 0.2524 - acc: 0.9522 - val_loss: 0.4957 - val_acc: 0.8878\n",
            "\n",
            "Epoch 00080: val_acc did not improve from 0.89050\n",
            "\n",
            "Epoch 00080: ReduceLROnPlateau reducing learning rate to 0.00016777217388153076.\n",
            "Epoch 81/100\n",
            "390/390 [==============================] - 24s 63ms/step - loss: 0.2425 - acc: 0.9561 - val_loss: 0.4795 - val_acc: 0.8905\n",
            "\n",
            "Epoch 00081: val_acc did not improve from 0.89050\n",
            "Epoch 82/100\n",
            "390/390 [==============================] - 24s 63ms/step - loss: 0.2385 - acc: 0.9568 - val_loss: 0.4832 - val_acc: 0.8906\n",
            "\n",
            "Epoch 00082: val_acc improved from 0.89050 to 0.89060, saving model to ../content/drive/My Drive/EIP/model_assignment9.h5\n",
            "Epoch 83/100\n",
            "390/390 [==============================] - 24s 62ms/step - loss: 0.2408 - acc: 0.9558 - val_loss: 0.4784 - val_acc: 0.8923\n",
            "\n",
            "Epoch 00083: val_acc improved from 0.89060 to 0.89230, saving model to ../content/drive/My Drive/EIP/model_assignment9.h5\n",
            "Epoch 84/100\n",
            "390/390 [==============================] - 24s 62ms/step - loss: 0.2354 - acc: 0.9565 - val_loss: 0.4888 - val_acc: 0.8869\n",
            "\n",
            "Epoch 00084: val_acc did not improve from 0.89230\n",
            "Epoch 85/100\n",
            "390/390 [==============================] - 25s 63ms/step - loss: 0.2352 - acc: 0.9564 - val_loss: 0.4940 - val_acc: 0.8871\n",
            "\n",
            "Epoch 00085: val_acc did not improve from 0.89230\n",
            "Epoch 86/100\n",
            "390/390 [==============================] - 24s 62ms/step - loss: 0.2297 - acc: 0.9592 - val_loss: 0.4751 - val_acc: 0.8908\n",
            "\n",
            "Epoch 00086: val_acc did not improve from 0.89230\n",
            "Epoch 87/100\n",
            "390/390 [==============================] - 24s 63ms/step - loss: 0.2329 - acc: 0.9571 - val_loss: 0.4867 - val_acc: 0.8897\n",
            "\n",
            "Epoch 00087: val_acc did not improve from 0.89230\n",
            "Epoch 88/100\n",
            "390/390 [==============================] - 24s 62ms/step - loss: 0.2282 - acc: 0.9586 - val_loss: 0.4768 - val_acc: 0.8919\n",
            "\n",
            "Epoch 00088: val_acc did not improve from 0.89230\n",
            "\n",
            "Epoch 00088: ReduceLROnPlateau reducing learning rate to 0.00013421773910522462.\n",
            "Epoch 89/100\n",
            "390/390 [==============================] - 24s 62ms/step - loss: 0.2243 - acc: 0.9601 - val_loss: 0.4766 - val_acc: 0.8913\n",
            "\n",
            "Epoch 00089: val_acc did not improve from 0.89230\n",
            "Epoch 90/100\n",
            "390/390 [==============================] - 24s 62ms/step - loss: 0.2265 - acc: 0.9583 - val_loss: 0.4761 - val_acc: 0.8941\n",
            "\n",
            "Epoch 00090: val_acc improved from 0.89230 to 0.89410, saving model to ../content/drive/My Drive/EIP/model_assignment9.h5\n",
            "Epoch 91/100\n",
            "390/390 [==============================] - 24s 62ms/step - loss: 0.2213 - acc: 0.9603 - val_loss: 0.4783 - val_acc: 0.8946\n",
            "\n",
            "Epoch 00091: val_acc improved from 0.89410 to 0.89460, saving model to ../content/drive/My Drive/EIP/model_assignment9.h5\n",
            "Epoch 92/100\n",
            "390/390 [==============================] - 24s 62ms/step - loss: 0.2216 - acc: 0.9600 - val_loss: 0.4891 - val_acc: 0.8895\n",
            "\n",
            "Epoch 00092: val_acc did not improve from 0.89460\n",
            "Epoch 93/100\n",
            "390/390 [==============================] - 24s 62ms/step - loss: 0.2214 - acc: 0.9597 - val_loss: 0.4765 - val_acc: 0.8905\n",
            "\n",
            "Epoch 00093: val_acc did not improve from 0.89460\n",
            "Epoch 94/100\n",
            "390/390 [==============================] - 24s 62ms/step - loss: 0.2199 - acc: 0.9619 - val_loss: 0.4859 - val_acc: 0.8868\n",
            "\n",
            "Epoch 00094: val_acc did not improve from 0.89460\n",
            "Epoch 95/100\n",
            "390/390 [==============================] - 24s 62ms/step - loss: 0.2176 - acc: 0.9615 - val_loss: 0.4692 - val_acc: 0.8934\n",
            "\n",
            "Epoch 00095: val_acc did not improve from 0.89460\n",
            "Epoch 96/100\n",
            "390/390 [==============================] - 24s 62ms/step - loss: 0.2176 - acc: 0.9605 - val_loss: 0.4653 - val_acc: 0.8956\n",
            "\n",
            "Epoch 00096: val_acc improved from 0.89460 to 0.89560, saving model to ../content/drive/My Drive/EIP/model_assignment9.h5\n",
            "Epoch 97/100\n",
            "390/390 [==============================] - 24s 62ms/step - loss: 0.2166 - acc: 0.9608 - val_loss: 0.4773 - val_acc: 0.8937\n",
            "\n",
            "Epoch 00097: val_acc did not improve from 0.89560\n",
            "Epoch 98/100\n",
            "390/390 [==============================] - 25s 63ms/step - loss: 0.2132 - acc: 0.9623 - val_loss: 0.4741 - val_acc: 0.8901\n",
            "\n",
            "Epoch 00098: val_acc did not improve from 0.89560\n",
            "Epoch 99/100\n",
            "390/390 [==============================] - 24s 62ms/step - loss: 0.2164 - acc: 0.9610 - val_loss: 0.4854 - val_acc: 0.8890\n",
            "\n",
            "Epoch 00099: val_acc did not improve from 0.89560\n",
            "Epoch 100/100\n",
            "390/390 [==============================] - 24s 62ms/step - loss: 0.2149 - acc: 0.9613 - val_loss: 0.4721 - val_acc: 0.8926\n",
            "\n",
            "Epoch 00100: val_acc did not improve from 0.89560\n",
            "Model took 2451.57 seconds to train\n"
          ],
          "name": "stdout"
        },
        {
          "output_type": "display_data",
          "data": {
            "image/png": "[encoded data removed]",
            "text/plain": [
              "<Figure size 1080x360 with 2 Axes>"
            ]
          },
          "metadata": {
            "tags": []
          }
        },
        {
          "output_type": "stream",
          "text": [
            "Accuracy on test data is: 89.26\n"
          ],
          "name": "stdout"
        }
      ]
    },
    {
      "cell_type": "code",
      "metadata": {
        "id": "BDhsS5Aw-6ZD",
        "colab_type": "code",
        "colab": {}
      },
      "source": [
        "# Load Model\n",
        "model=keras.models.load_model('../content/drive/My Drive/EIP/model_assignment9.h5')"
      ],
      "execution_count": 0,
      "outputs": []
    },
    {
      "cell_type": "code",
      "metadata": {
        "id": "6D4Tp3F3JcGl",
        "colab_type": "code",
        "colab": {
          "base_uri": "https://localhost:8080/",
          "height": 51
        },
        "outputId": "8be45bf2-5f6a-4cc3-a98b-35bfc687773a"
      },
      "source": [
        "score = model.evaluate(X_test, Y_test, batch_size=128)\n",
        "print (score[1])"
      ],
      "execution_count": 40,
      "outputs": [
        {
          "output_type": "stream",
          "text": [
            "10000/10000 [==============================] - 2s 199us/step\n",
            "0.8956\n"
          ],
          "name": "stdout"
        }
      ]
    },
    {
      "cell_type": "markdown",
      "metadata": {
        "id": "u0RXc_OPJd5F",
        "colab_type": "text"
      },
      "source": [
        "#GradCam with Cutout"
      ]
    },
    {
      "cell_type": "code",
      "metadata": {
        "id": "G28BohmhJs6R",
        "colab_type": "code",
        "colab": {
          "base_uri": "https://localhost:8080/",
          "height": 1000
        },
        "outputId": "57e76fe8-47f7-465b-e52f-336719707613"
      },
      "source": [
        "import cv2\n",
        "from google.colab.patches import cv2_imshow\n",
        "\n",
        "images = [10,11,21,51,60,100,160,161,300,400,500,770,790,800,900,999]\n",
        "for j in images:\n",
        "  x = testX[j]\n",
        "  x = np.expand_dims(x, axis=0)\n",
        "  preds = model.predict(x,batch_size=1)\n",
        "  class_idx = np.argmax(preds[0])\n",
        "  class_output = model.output[:, class_idx]\n",
        "  last_conv_layer = model.get_layer(\"conv2d_17\")\n",
        "\n",
        "  grads = K.gradients(class_output, last_conv_layer.output)[0]\n",
        "  pooled_grads = K.mean(grads, axis=(0, 1, 2))\n",
        "  iterate = K.function([model.input], [pooled_grads, last_conv_layer.output[0]])\n",
        "  pooled_grads_value, conv_layer_output_value = iterate([x])\n",
        "  for i in range(256):\n",
        "    conv_layer_output_value[:, :, i] *= pooled_grads_value[i]\n",
        "  \n",
        "  heatmap = np.mean(conv_layer_output_value, axis=-1)\n",
        "  heatmap = np.maximum(heatmap, 0)\n",
        "  heatmap /= np.max(heatmap) \n",
        "  img = (testX[j])\n",
        "  heatmap = cv2.resize(heatmap, (img.shape[1], img.shape[0]))\n",
        "  heatmap = np.uint8(255 * heatmap)\n",
        "  heatmap = cv2.applyColorMap(heatmap, cv2.COLORMAP_JET)\n",
        "  superimposed_img = cv2.addWeighted(img, 0.6, heatmap, 0.4, 0)\n",
        "  #cv2_imshow(img)\n",
        "  #cv2_imshow(superimposed_img)\n",
        "  concatimg = cv2.hconcat([img,superimposed_img])\n",
        "  # Display the concatenated image\n",
        "  print (j)\n",
        "  cv2_imshow(concatimg)\n",
        "  cv2.waitKey(0)\n",
        "  print (\" \")\n",
        "  j = j + 1\n"
      ],
      "execution_count": 43,
      "outputs": [
        {
          "output_type": "stream",
          "text": [
            "10\n"
          ],
          "name": "stdout"
        },
        {
          "output_type": "display_data",
          "data": {
            "image/png": "[encoded data removed]",
            "text/plain": [
              "<PIL.Image.Image image mode=RGB size=64x32 at 0x7F035E230CF8>"
            ]
          },
          "metadata": {
            "tags": []
          }
        },
        {
          "output_type": "stream",
          "text": [
            " \n",
            "11\n"
          ],
          "name": "stdout"
        },
        {
          "output_type": "display_data",
          "data": {
            "image/png": "[encoded data removed]",
            "text/plain": [
              "<PIL.Image.Image image mode=RGB size=64x32 at 0x7F035EB7F898>"
            ]
          },
          "metadata": {
            "tags": []
          }
        },
        {
          "output_type": "stream",
          "text": [
            " \n",
            "21\n"
          ],
          "name": "stdout"
        },
        {
          "output_type": "display_data",
          "data": {
            "image/png": "[encoded data removed]",
            "text/plain": [
              "<PIL.Image.Image image mode=RGB size=64x32 at 0x7F035DB886A0>"
            ]
          },
          "metadata": {
            "tags": []
          }
        },
        {
          "output_type": "stream",
          "text": [
            " \n",
            "51\n"
          ],
          "name": "stdout"
        },
        {
          "output_type": "display_data",
          "data": {
            "image/png": "[encoded data removed]",
            "text/plain": [
              "<PIL.Image.Image image mode=RGB size=64x32 at 0x7F035EBBEBE0>"
            ]
          },
          "metadata": {
            "tags": []
          }
        },
        {
          "output_type": "stream",
          "text": [
            " \n",
            "60\n"
          ],
          "name": "stdout"
        },
        {
          "output_type": "display_data",
          "data": {
            "image/png": "[encoded data removed]",
            "text/plain": [
              "<PIL.Image.Image image mode=RGB size=64x32 at 0x7F035DA296A0>"
            ]
          },
          "metadata": {
            "tags": []
          }
        },
        {
          "output_type": "stream",
          "text": [
            " \n",
            "100\n"
          ],
          "name": "stdout"
        },
        {
          "output_type": "display_data",
          "data": {
            "image/png": "[encoded data removed]",
            "text/plain": [
              "<PIL.Image.Image image mode=RGB size=64x32 at 0x7F035DA83898>"
            ]
          },
          "metadata": {
            "tags": []
          }
        },
        {
          "output_type": "stream",
          "text": [
            " \n",
            "160\n"
          ],
          "name": "stdout"
        },
        {
          "output_type": "display_data",
          "data": {
            "image/png": "[encoded data removed]",
            "text/plain": [
              "<PIL.Image.Image image mode=RGB size=64x32 at 0x7F035D7E8F60>"
            ]
          },
          "metadata": {
            "tags": []
          }
        },
        {
          "output_type": "stream",
          "text": [
            " \n",
            "161\n"
          ],
          "name": "stdout"
        },
        {
          "output_type": "display_data",
          "data": {
            "image/png": "[encoded data removed]",
            "text/plain": [
              "<PIL.Image.Image image mode=RGB size=64x32 at 0x7F035D9FBF60>"
            ]
          },
          "metadata": {
            "tags": []
          }
        },
        {
          "output_type": "stream",
          "text": [
            " \n",
            "300\n"
          ],
          "name": "stdout"
        },
        {
          "output_type": "display_data",
          "data": {
            "image/png": "[encoded data removed]",
            "text/plain": [
              "<PIL.Image.Image image mode=RGB size=64x32 at 0x7F035EBBEBE0>"
            ]
          },
          "metadata": {
            "tags": []
          }
        },
        {
          "output_type": "stream",
          "text": [
            " \n",
            "400\n"
          ],
          "name": "stdout"
        },
        {
          "output_type": "display_data",
          "data": {
            "image/png": "[encoded data removed]",
            "text/plain": [
              "<PIL.Image.Image image mode=RGB size=64x32 at 0x7F035D6727B8>"
            ]
          },
          "metadata": {
            "tags": []
          }
        },
        {
          "output_type": "stream",
          "text": [
            " \n",
            "500\n"
          ],
          "name": "stdout"
        },
        {
          "output_type": "display_data",
          "data": {
            "image/png": "[encoded data removed]",
            "text/plain": [
              "<PIL.Image.Image image mode=RGB size=64x32 at 0x7F035D4DB278>"
            ]
          },
          "metadata": {
            "tags": []
          }
        },
        {
          "output_type": "stream",
          "text": [
            " \n",
            "770\n"
          ],
          "name": "stdout"
        },
        {
          "output_type": "display_data",
          "data": {
            "image/png": "[encoded data removed]",
            "text/plain": [
              "<PIL.Image.Image image mode=RGB size=64x32 at 0x7F035D3D9BE0>"
            ]
          },
          "metadata": {
            "tags": []
          }
        },
        {
          "output_type": "stream",
          "text": [
            " \n",
            "790\n"
          ],
          "name": "stdout"
        },
        {
          "output_type": "display_data",
          "data": {
            "image/png": "[encoded data removed]",
            "text/plain": [
              "<PIL.Image.Image image mode=RGB size=64x32 at 0x7F035D4DB278>"
            ]
          },
          "metadata": {
            "tags": []
          }
        },
        {
          "output_type": "stream",
          "text": [
            " \n",
            "800\n"
          ],
          "name": "stdout"
        },
        {
          "output_type": "stream",
          "text": [
            "/usr/local/lib/python3.6/dist-packages/ipykernel_launcher.py:22: RuntimeWarning: invalid value encountered in true_divide\n"
          ],
          "name": "stderr"
        },
        {
          "output_type": "display_data",
          "data": {
            "image/png": "[encoded data removed]",
            "text/plain": [
              "<PIL.Image.Image image mode=RGB size=64x32 at 0x7F035D4DB1D0>"
            ]
          },
          "metadata": {
            "tags": []
          }
        },
        {
          "output_type": "stream",
          "text": [
            " \n",
            "900\n"
          ],
          "name": "stdout"
        },
        {
          "output_type": "display_data",
          "data": {
            "image/png": "[encoded data removed]",
            "text/plain": [
              "<PIL.Image.Image image mode=RGB size=64x32 at 0x7F035D153860>"
            ]
          },
          "metadata": {
            "tags": []
          }
        },
        {
          "output_type": "stream",
          "text": [
            " \n",
            "999\n"
          ],
          "name": "stdout"
        },
        {
          "output_type": "display_data",
          "data": {
            "image/png": "[encoded data removed]",
            "text/plain": [
              "<PIL.Image.Image image mode=RGB size=64x32 at 0x7F035CD73828>"
            ]
          },
          "metadata": {
            "tags": []
          }
        },
        {
          "output_type": "stream",
          "text": [
            " \n"
          ],
          "name": "stdout"
        }
      ]
    },
    {
      "cell_type": "markdown",
      "metadata": {
        "id": "p4WhN4LVJwNN",
        "colab_type": "text"
      },
      "source": [
        "#Observations :\n",
        "\n",
        "I have trained 2 models below, one without cutout , one with cutout\n",
        "Below both model results can be found\n",
        "Validation Accuarcy with cutout is 89.56%\n"
      ]
    }
  ]
}